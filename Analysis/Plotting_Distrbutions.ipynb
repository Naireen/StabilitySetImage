{
 "cells": [
  {
   "cell_type": "code",
   "execution_count": 1,
   "metadata": {
    "collapsed": true
   },
   "outputs": [],
   "source": [
    "import numpy as np\n",
    "import emcee\n",
    "import matplotlib\n",
    "import matplotlib.pyplot as plt\n",
    "import pandas as pd\n",
    "import time \n",
    "from scipy.stats import norm, laplace\n",
    "from scipy.stats import anderson_ksamp, ks_2samp, shapiro\n",
    "from scipy.optimize import curve_fit"
   ]
  },
  {
   "cell_type": "code",
   "execution_count": 6,
   "metadata": {
    "collapsed": false
   },
   "outputs": [
    {
     "data": {
      "text/html": [
       "<div>\n",
       "<style>\n",
       "    .dataframe thead tr:only-child th {\n",
       "        text-align: right;\n",
       "    }\n",
       "\n",
       "    .dataframe thead th {\n",
       "        text-align: left;\n",
       "    }\n",
       "\n",
       "    .dataframe tbody tr th {\n",
       "        vertical-align: top;\n",
       "    }\n",
       "</style>\n",
       "<table border=\"1\" class=\"dataframe\">\n",
       "  <thead>\n",
       "    <tr style=\"text-align: right;\">\n",
       "      <th></th>\n",
       "      <th>ID</th>\n",
       "      <th>Probability</th>\n",
       "      <th>Mean</th>\n",
       "      <th>Sigma</th>\n",
       "      <th>Mean_Error</th>\n",
       "      <th>Sigma_Error</th>\n",
       "      <th>Determinant</th>\n",
       "    </tr>\n",
       "  </thead>\n",
       "  <tbody>\n",
       "    <tr>\n",
       "      <th>0</th>\n",
       "      <td>1007</td>\n",
       "      <td>0.133196</td>\n",
       "      <td>5.587629</td>\n",
       "      <td>0.464593</td>\n",
       "      <td>0.014738</td>\n",
       "      <td>0.010563</td>\n",
       "      <td>2.423315e-08</td>\n",
       "    </tr>\n",
       "    <tr>\n",
       "      <th>1</th>\n",
       "      <td>1021</td>\n",
       "      <td>0.181262</td>\n",
       "      <td>6.003999</td>\n",
       "      <td>0.327314</td>\n",
       "      <td>0.010287</td>\n",
       "      <td>0.007410</td>\n",
       "      <td>5.811603e-09</td>\n",
       "    </tr>\n",
       "    <tr>\n",
       "      <th>2</th>\n",
       "      <td>1025</td>\n",
       "      <td>0.153687</td>\n",
       "      <td>5.794418</td>\n",
       "      <td>0.385985</td>\n",
       "      <td>0.012358</td>\n",
       "      <td>0.008756</td>\n",
       "      <td>1.170601e-08</td>\n",
       "    </tr>\n",
       "    <tr>\n",
       "      <th>3</th>\n",
       "      <td>1041</td>\n",
       "      <td>0.127597</td>\n",
       "      <td>5.730234</td>\n",
       "      <td>0.494415</td>\n",
       "      <td>0.015324</td>\n",
       "      <td>0.011150</td>\n",
       "      <td>2.919534e-08</td>\n",
       "    </tr>\n",
       "    <tr>\n",
       "      <th>4</th>\n",
       "      <td>10518</td>\n",
       "      <td>0.144064</td>\n",
       "      <td>6.465849</td>\n",
       "      <td>0.431597</td>\n",
       "      <td>0.013325</td>\n",
       "      <td>0.009608</td>\n",
       "      <td>1.638141e-08</td>\n",
       "    </tr>\n",
       "  </tbody>\n",
       "</table>\n",
       "</div>"
      ],
      "text/plain": [
       "      ID  Probability      Mean     Sigma  Mean_Error  Sigma_Error  \\\n",
       "0   1007     0.133196  5.587629  0.464593    0.014738     0.010563   \n",
       "1   1021     0.181262  6.003999  0.327314    0.010287     0.007410   \n",
       "2   1025     0.153687  5.794418  0.385985    0.012358     0.008756   \n",
       "3   1041     0.127597  5.730234  0.494415    0.015324     0.011150   \n",
       "4  10518     0.144064  6.465849  0.431597    0.013325     0.009608   \n",
       "\n",
       "    Determinant  \n",
       "0  2.423315e-08  \n",
       "1  5.811603e-09  \n",
       "2  1.170601e-08  \n",
       "3  2.919534e-08  \n",
       "4  1.638141e-08  "
      ]
     },
     "execution_count": 6,
     "metadata": {},
     "output_type": "execute_result"
    }
   ],
   "source": [
    "info = pd.read_csv(\"../csvs/random/Gaussian_Fits_266.csv\", index_col=0)\n",
    "info.head()"
   ]
  },
  {
   "cell_type": "code",
   "execution_count": 8,
   "metadata": {
    "collapsed": false
   },
   "outputs": [
    {
     "data": {
      "text/html": [
       "<div>\n",
       "<style>\n",
       "    .dataframe thead tr:only-child th {\n",
       "        text-align: right;\n",
       "    }\n",
       "\n",
       "    .dataframe thead th {\n",
       "        text-align: left;\n",
       "    }\n",
       "\n",
       "    .dataframe tbody tr th {\n",
       "        vertical-align: top;\n",
       "    }\n",
       "</style>\n",
       "<table border=\"1\" class=\"dataframe\">\n",
       "  <thead>\n",
       "    <tr style=\"text-align: right;\">\n",
       "      <th></th>\n",
       "      <th>ID</th>\n",
       "      <th>Anderson_P</th>\n",
       "      <th>KS_P</th>\n",
       "      <th>ShapiroW</th>\n",
       "    </tr>\n",
       "  </thead>\n",
       "  <tbody>\n",
       "    <tr>\n",
       "      <th>0</th>\n",
       "      <td>1601.0</td>\n",
       "      <td>0.000000e+00</td>\n",
       "      <td>1.541904e-66</td>\n",
       "      <td>0.000000e+00</td>\n",
       "    </tr>\n",
       "    <tr>\n",
       "      <th>1</th>\n",
       "      <td>1364.0</td>\n",
       "      <td>1.878066e+215</td>\n",
       "      <td>7.464849e-62</td>\n",
       "      <td>0.000000e+00</td>\n",
       "    </tr>\n",
       "    <tr>\n",
       "      <th>2</th>\n",
       "      <td>1829.0</td>\n",
       "      <td>4.539668e+168</td>\n",
       "      <td>3.195230e-60</td>\n",
       "      <td>0.000000e+00</td>\n",
       "    </tr>\n",
       "    <tr>\n",
       "      <th>3</th>\n",
       "      <td>2215.0</td>\n",
       "      <td>8.177321e+84</td>\n",
       "      <td>2.970647e-59</td>\n",
       "      <td>2.242078e-44</td>\n",
       "    </tr>\n",
       "    <tr>\n",
       "      <th>4</th>\n",
       "      <td>1819.0</td>\n",
       "      <td>2.200495e+85</td>\n",
       "      <td>7.786949e-45</td>\n",
       "      <td>1.401298e-45</td>\n",
       "    </tr>\n",
       "  </tbody>\n",
       "</table>\n",
       "</div>"
      ],
      "text/plain": [
       "       ID     Anderson_P          KS_P      ShapiroW\n",
       "0  1601.0   0.000000e+00  1.541904e-66  0.000000e+00\n",
       "1  1364.0  1.878066e+215  7.464849e-62  0.000000e+00\n",
       "2  1829.0  4.539668e+168  3.195230e-60  0.000000e+00\n",
       "3  2215.0   8.177321e+84  2.970647e-59  2.242078e-44\n",
       "4  1819.0   2.200495e+85  7.786949e-45  1.401298e-45"
      ]
     },
     "execution_count": 8,
     "metadata": {},
     "output_type": "execute_result"
    }
   ],
   "source": [
    "significance_scores = pd.read_csv(\"../csvs/random/significance_scores.csv\")\n",
    "significance_scores.head()"
   ]
  },
  {
   "cell_type": "code",
   "execution_count": 9,
   "metadata": {
    "collapsed": false
   },
   "outputs": [
    {
     "data": {
      "text/html": [
       "<div>\n",
       "<style>\n",
       "    .dataframe thead tr:only-child th {\n",
       "        text-align: right;\n",
       "    }\n",
       "\n",
       "    .dataframe thead th {\n",
       "        text-align: left;\n",
       "    }\n",
       "\n",
       "    .dataframe tbody tr th {\n",
       "        vertical-align: top;\n",
       "    }\n",
       "</style>\n",
       "<table border=\"1\" class=\"dataframe\">\n",
       "  <thead>\n",
       "    <tr style=\"text-align: right;\">\n",
       "      <th></th>\n",
       "      <th>ID</th>\n",
       "      <th>Anderson_P</th>\n",
       "      <th>KS_P</th>\n",
       "      <th>ShapiroW</th>\n",
       "    </tr>\n",
       "  </thead>\n",
       "  <tbody>\n",
       "    <tr>\n",
       "      <th>247</th>\n",
       "      <td>2081.0</td>\n",
       "      <td>0.793118</td>\n",
       "      <td>0.949235</td>\n",
       "      <td>2.675704e-02</td>\n",
       "    </tr>\n",
       "    <tr>\n",
       "      <th>246</th>\n",
       "      <td>19591.0</td>\n",
       "      <td>0.611337</td>\n",
       "      <td>0.883962</td>\n",
       "      <td>1.079304e-03</td>\n",
       "    </tr>\n",
       "    <tr>\n",
       "      <th>245</th>\n",
       "      <td>2087.0</td>\n",
       "      <td>0.648973</td>\n",
       "      <td>0.822841</td>\n",
       "      <td>2.619635e-05</td>\n",
       "    </tr>\n",
       "    <tr>\n",
       "      <th>244</th>\n",
       "      <td>2030.0</td>\n",
       "      <td>0.455353</td>\n",
       "      <td>0.787245</td>\n",
       "      <td>2.954231e-06</td>\n",
       "    </tr>\n",
       "    <tr>\n",
       "      <th>243</th>\n",
       "      <td>1169.0</td>\n",
       "      <td>0.409436</td>\n",
       "      <td>0.753047</td>\n",
       "      <td>1.806068e-13</td>\n",
       "    </tr>\n",
       "  </tbody>\n",
       "</table>\n",
       "</div>"
      ],
      "text/plain": [
       "          ID  Anderson_P      KS_P      ShapiroW\n",
       "247   2081.0    0.793118  0.949235  2.675704e-02\n",
       "246  19591.0    0.611337  0.883962  1.079304e-03\n",
       "245   2087.0    0.648973  0.822841  2.619635e-05\n",
       "244   2030.0    0.455353  0.787245  2.954231e-06\n",
       "243   1169.0    0.409436  0.753047  1.806068e-13"
      ]
     },
     "execution_count": 9,
     "metadata": {},
     "output_type": "execute_result"
    }
   ],
   "source": [
    "ranked_scores = significance_scores.sort_values(\"KS_P\", ascending=False)\n",
    "ranked_scores.head()"
   ]
  },
  {
   "cell_type": "code",
   "execution_count": 25,
   "metadata": {
    "collapsed": true
   },
   "outputs": [],
   "source": [
    "def plot_random_hists( planet_systems,title=None):\n",
    "    ncol, nrow = 3,len(planet_systems)//3\n",
    "    if (len(planet_systems)%3 != 0):\n",
    "        nrow +=1\n",
    "    fig, axarr = plt.subplots(ncols=ncol,nrows=nrow)\n",
    "    fig.set_size_inches((15, nrow*3))\n",
    "    for jj , planet_sys in enumerate(planet_systems[:ncol*nrow]):\n",
    "        data = pd.read_csv(\"../csvs/random/random_features/\" + planet_sys, index_col=0)\n",
    "    \n",
    "        data = data[data[\"t\"]<1e8]\n",
    "        data[\"logt\"] = np.log10(data[\"t\"])\n",
    "        name = planet_sys.split(\"_\")[1]\n",
    "        # make guassian\n",
    "        mean, sigma =  info[info[\"ID\"]==int(name)][[\"Mean\", \"Sigma\"]].values[0]\n",
    "\n",
    "        x = np.linspace(mean - sigma*4, mean+sigma*4, 100)\n",
    "        rv = norm(loc = mean, scale = sigma)\n",
    "        axarr[jj//ncol, jj%ncol ].plot(x, rv.pdf(x), linewidth = 4, color = \"black\")\n",
    "        data.hist(\"logt\",  ax = axarr[jj//ncol, jj%ncol],  label = name + \" Mean - \" +str(\"{0:.3f}\".format(mean)) + \" Sigma - \"+ str(\"{0:.3f}\".format(sigma)), alpha = 0.7, normed = 1, color = \"purple\", edgecolor = \"black\", bins = 20)\n",
    "        axarr[jj//ncol, jj%ncol ].set_title(name + r': $\\mu$=' +str(\"{0:.3f}\".format(mean)) + r': $\\sigma$='+ str(\"{0:.3f}\".format(sigma)))\n",
    "    plt.show()"
   ]
  },
  {
   "cell_type": "code",
   "execution_count": 26,
   "metadata": {
    "collapsed": false
   },
   "outputs": [
    {
     "name": "stdout",
     "output_type": "stream",
     "text": [
      "['Sys_2081_1e8.csv', 'Sys_19591_1e8.csv', 'Sys_2087_1e8.csv', 'Sys_2030_1e8.csv', 'Sys_1169_1e8.csv', 'Sys_25_1e8.csv']\n"
     ]
    },
    {
     "data": {
      "image/png": "[encoded data removed]",
      "text/plain": [
       "<matplotlib.figure.Figure at 0x7f2a2ad00b70>"
      ]
     },
     "metadata": {},
     "output_type": "display_data"
    }
   ],
   "source": [
    "very_gaussian = ranked_scores.head(6)[\"ID\"]\n",
    "very_gaussian = [\"Sys_{0}_1e8.csv\".format(int(x))  for x in very_gaussian]\n",
    "print (very_gaussian)\n",
    "plot_random_hists(very_gaussian)"
   ]
  },
  {
   "cell_type": "code",
   "execution_count": null,
   "metadata": {
    "collapsed": true
   },
   "outputs": [],
   "source": []
  }
 ],
 "metadata": {
  "anaconda-cloud": {},
  "kernelspec": {
   "display_name": "Python [conda env:CSC401]",
   "language": "python",
   "name": "conda-env-CSC401-py"
  },
  "language_info": {
   "codemirror_mode": {
    "name": "ipython",
    "version": 3
   },
   "file_extension": ".py",
   "mimetype": "text/x-python",
   "name": "python",
   "nbconvert_exporter": "python",
   "pygments_lexer": "ipython3",
   "version": "3.6.3"
  }
 },
 "nbformat": 4,
 "nbformat_minor": 1
}
