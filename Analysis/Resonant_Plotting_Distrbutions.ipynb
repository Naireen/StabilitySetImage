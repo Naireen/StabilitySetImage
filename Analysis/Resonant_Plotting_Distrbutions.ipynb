{
 "cells": [
  {
   "cell_type": "code",
   "execution_count": 1,
   "metadata": {
    "collapsed": true
   },
   "outputs": [],
   "source": [
    "import numpy as np\n",
    "import emcee\n",
    "import matplotlib\n",
    "import matplotlib.pyplot as plt\n",
    "import pandas as pd\n",
    "import time \n",
    "from scipy.stats import norm, laplace\n",
    "from scipy.stats import anderson_ksamp, ks_2samp, shapiro\n",
    "from scipy.optimize import curve_fit"
   ]
  },
  {
   "cell_type": "code",
   "execution_count": 3,
   "metadata": {
    "collapsed": false
   },
   "outputs": [
    {
     "data": {
      "text/html": [
       "<div>\n",
       "<style>\n",
       "    .dataframe thead tr:only-child th {\n",
       "        text-align: right;\n",
       "    }\n",
       "\n",
       "    .dataframe thead th {\n",
       "        text-align: left;\n",
       "    }\n",
       "\n",
       "    .dataframe tbody tr th {\n",
       "        vertical-align: top;\n",
       "    }\n",
       "</style>\n",
       "<table border=\"1\" class=\"dataframe\">\n",
       "  <thead>\n",
       "    <tr style=\"text-align: right;\">\n",
       "      <th></th>\n",
       "      <th>ID</th>\n",
       "      <th>Probability</th>\n",
       "      <th>Mean</th>\n",
       "      <th>Sigma</th>\n",
       "      <th>Mean_Error</th>\n",
       "      <th>Sigma_Error</th>\n",
       "      <th>Determinant</th>\n",
       "    </tr>\n",
       "  </thead>\n",
       "  <tbody>\n",
       "    <tr>\n",
       "      <th>0</th>\n",
       "      <td>0.0</td>\n",
       "      <td>0.476693</td>\n",
       "      <td>3.786055</td>\n",
       "      <td>3.751443e-01</td>\n",
       "      <td>0.016966</td>\n",
       "      <td>0.011563</td>\n",
       "      <td>3.848582e-08</td>\n",
       "    </tr>\n",
       "    <tr>\n",
       "      <th>1</th>\n",
       "      <td>1.0</td>\n",
       "      <td>inf</td>\n",
       "      <td>8.000000</td>\n",
       "      <td>2.424749e-53</td>\n",
       "      <td>inf</td>\n",
       "      <td>inf</td>\n",
       "      <td>inf</td>\n",
       "    </tr>\n",
       "    <tr>\n",
       "      <th>2</th>\n",
       "      <td>2.0</td>\n",
       "      <td>inf</td>\n",
       "      <td>8.000000</td>\n",
       "      <td>2.962301e-50</td>\n",
       "      <td>inf</td>\n",
       "      <td>inf</td>\n",
       "      <td>inf</td>\n",
       "    </tr>\n",
       "    <tr>\n",
       "      <th>3</th>\n",
       "      <td>3.0</td>\n",
       "      <td>0.590160</td>\n",
       "      <td>6.841539</td>\n",
       "      <td>3.056313e-01</td>\n",
       "      <td>0.013744</td>\n",
       "      <td>0.009843</td>\n",
       "      <td>1.829682e-08</td>\n",
       "    </tr>\n",
       "    <tr>\n",
       "      <th>4</th>\n",
       "      <td>4.0</td>\n",
       "      <td>0.761169</td>\n",
       "      <td>5.687744</td>\n",
       "      <td>2.387079e-01</td>\n",
       "      <td>0.010759</td>\n",
       "      <td>0.007405</td>\n",
       "      <td>6.341003e-09</td>\n",
       "    </tr>\n",
       "  </tbody>\n",
       "</table>\n",
       "</div>"
      ],
      "text/plain": [
       "    ID  Probability      Mean         Sigma  Mean_Error  Sigma_Error  \\\n",
       "0  0.0     0.476693  3.786055  3.751443e-01    0.016966     0.011563   \n",
       "1  1.0          inf  8.000000  2.424749e-53         inf          inf   \n",
       "2  2.0          inf  8.000000  2.962301e-50         inf          inf   \n",
       "3  3.0     0.590160  6.841539  3.056313e-01    0.013744     0.009843   \n",
       "4  4.0     0.761169  5.687744  2.387079e-01    0.010759     0.007405   \n",
       "\n",
       "    Determinant  \n",
       "0  3.848582e-08  \n",
       "1           inf  \n",
       "2           inf  \n",
       "3  1.829682e-08  \n",
       "4  6.341003e-09  "
      ]
     },
     "execution_count": 3,
     "metadata": {},
     "output_type": "execute_result"
    }
   ],
   "source": [
    "info = pd.read_csv(\"../csvs/resonant/Gaussian_Fits_317.csv\")\n",
    "info.head()"
   ]
  },
  {
   "cell_type": "code",
   "execution_count": 5,
   "metadata": {
    "collapsed": false
   },
   "outputs": [
    {
     "data": {
      "text/html": [
       "<div>\n",
       "<style>\n",
       "    .dataframe thead tr:only-child th {\n",
       "        text-align: right;\n",
       "    }\n",
       "\n",
       "    .dataframe thead th {\n",
       "        text-align: left;\n",
       "    }\n",
       "\n",
       "    .dataframe tbody tr th {\n",
       "        vertical-align: top;\n",
       "    }\n",
       "</style>\n",
       "<table border=\"1\" class=\"dataframe\">\n",
       "  <thead>\n",
       "    <tr style=\"text-align: right;\">\n",
       "      <th></th>\n",
       "      <th>ID</th>\n",
       "      <th>Anderson_P</th>\n",
       "      <th>KS_P</th>\n",
       "      <th>ShapiroW</th>\n",
       "    </tr>\n",
       "  </thead>\n",
       "  <tbody>\n",
       "    <tr>\n",
       "      <th>0</th>\n",
       "      <td>100.0</td>\n",
       "      <td>0.000031</td>\n",
       "      <td>0.000029</td>\n",
       "      <td>7.678782e-24</td>\n",
       "    </tr>\n",
       "    <tr>\n",
       "      <th>1</th>\n",
       "      <td>101.0</td>\n",
       "      <td>0.022468</td>\n",
       "      <td>0.010125</td>\n",
       "      <td>3.526777e-08</td>\n",
       "    </tr>\n",
       "    <tr>\n",
       "      <th>2</th>\n",
       "      <td>108.0</td>\n",
       "      <td>0.419460</td>\n",
       "      <td>0.449255</td>\n",
       "      <td>5.864905e-06</td>\n",
       "    </tr>\n",
       "    <tr>\n",
       "      <th>3</th>\n",
       "      <td>109.0</td>\n",
       "      <td>0.670769</td>\n",
       "      <td>0.655550</td>\n",
       "      <td>3.596655e-06</td>\n",
       "    </tr>\n",
       "    <tr>\n",
       "      <th>4</th>\n",
       "      <td>113.0</td>\n",
       "      <td>0.024880</td>\n",
       "      <td>0.046678</td>\n",
       "      <td>7.397713e-13</td>\n",
       "    </tr>\n",
       "  </tbody>\n",
       "</table>\n",
       "</div>"
      ],
      "text/plain": [
       "      ID  Anderson_P      KS_P      ShapiroW\n",
       "0  100.0    0.000031  0.000029  7.678782e-24\n",
       "1  101.0    0.022468  0.010125  3.526777e-08\n",
       "2  108.0    0.419460  0.449255  5.864905e-06\n",
       "3  109.0    0.670769  0.655550  3.596655e-06\n",
       "4  113.0    0.024880  0.046678  7.397713e-13"
      ]
     },
     "execution_count": 5,
     "metadata": {},
     "output_type": "execute_result"
    }
   ],
   "source": [
    "significance_scores = pd.read_csv(\"../csvs/resonant/significance_scores.csv\", index_col=0)\n",
    "significance_scores.head()"
   ]
  },
  {
   "cell_type": "code",
   "execution_count": 6,
   "metadata": {
    "collapsed": false
   },
   "outputs": [
    {
     "data": {
      "text/html": [
       "<div>\n",
       "<style>\n",
       "    .dataframe thead tr:only-child th {\n",
       "        text-align: right;\n",
       "    }\n",
       "\n",
       "    .dataframe thead th {\n",
       "        text-align: left;\n",
       "    }\n",
       "\n",
       "    .dataframe tbody tr th {\n",
       "        vertical-align: top;\n",
       "    }\n",
       "</style>\n",
       "<table border=\"1\" class=\"dataframe\">\n",
       "  <thead>\n",
       "    <tr style=\"text-align: right;\">\n",
       "      <th></th>\n",
       "      <th>ID</th>\n",
       "      <th>Anderson_P</th>\n",
       "      <th>KS_P</th>\n",
       "      <th>ShapiroW</th>\n",
       "    </tr>\n",
       "  </thead>\n",
       "  <tbody>\n",
       "    <tr>\n",
       "      <th>94</th>\n",
       "      <td>304.0</td>\n",
       "      <td>0.000000</td>\n",
       "      <td>1.000000</td>\n",
       "      <td>1.000000e+00</td>\n",
       "    </tr>\n",
       "    <tr>\n",
       "      <th>131</th>\n",
       "      <td>358.0</td>\n",
       "      <td>0.992461</td>\n",
       "      <td>0.957167</td>\n",
       "      <td>2.553660e-01</td>\n",
       "    </tr>\n",
       "    <tr>\n",
       "      <th>127</th>\n",
       "      <td>3.0</td>\n",
       "      <td>0.919871</td>\n",
       "      <td>0.957167</td>\n",
       "      <td>1.789452e-07</td>\n",
       "    </tr>\n",
       "    <tr>\n",
       "      <th>104</th>\n",
       "      <td>320.0</td>\n",
       "      <td>0.848374</td>\n",
       "      <td>0.957167</td>\n",
       "      <td>1.849014e-02</td>\n",
       "    </tr>\n",
       "    <tr>\n",
       "      <th>72</th>\n",
       "      <td>259.0</td>\n",
       "      <td>0.903742</td>\n",
       "      <td>0.930714</td>\n",
       "      <td>4.700140e-02</td>\n",
       "    </tr>\n",
       "  </tbody>\n",
       "</table>\n",
       "</div>"
      ],
      "text/plain": [
       "        ID  Anderson_P      KS_P      ShapiroW\n",
       "94   304.0    0.000000  1.000000  1.000000e+00\n",
       "131  358.0    0.992461  0.957167  2.553660e-01\n",
       "127    3.0    0.919871  0.957167  1.789452e-07\n",
       "104  320.0    0.848374  0.957167  1.849014e-02\n",
       "72   259.0    0.903742  0.930714  4.700140e-02"
      ]
     },
     "execution_count": 6,
     "metadata": {},
     "output_type": "execute_result"
    }
   ],
   "source": [
    "ranked_scores = significance_scores.sort_values(\"KS_P\", ascending=False)\n",
    "ranked_scores.head()"
   ]
  },
  {
   "cell_type": "code",
   "execution_count": 13,
   "metadata": {
    "collapsed": true
   },
   "outputs": [],
   "source": [
    "def plot_random_hists( planet_systems,title=None):\n",
    "    ncol, nrow = 3,len(planet_systems)//3\n",
    "    if (len(planet_systems)%3 != 0):\n",
    "        nrow +=1\n",
    "    fig, axarr = plt.subplots(ncols=ncol,nrows=nrow)\n",
    "    fig.set_size_inches((15, nrow*3))\n",
    "    for jj , planet_sys in enumerate(planet_systems[:ncol*nrow]):\n",
    "        data = pd.read_csv(\"../csvs/resonant/resonant_features/\" + planet_sys, index_col=0)\n",
    "    \n",
    "        data = data[data[\"t\"]<1e8]\n",
    "        data[\"logt\"] = np.log10(data[\"t\"])\n",
    "        name = planet_sys.split(\"_\")[2]\n",
    "        # make guassian\n",
    "        mean, sigma =  info[info[\"ID\"]==int(name)][[\"Mean\", \"Sigma\"]].values[0]\n",
    "\n",
    "        x = np.linspace(mean - sigma*4, mean+sigma*4, 100)\n",
    "        rv = norm(loc = mean, scale = sigma)\n",
    "        axarr[jj//ncol, jj%ncol ].plot(x, rv.pdf(x), linewidth = 4, color = \"black\")\n",
    "        data.hist(\"logt\",  ax = axarr[jj//ncol, jj%ncol],  label = name + \" Mean - \" +str(\"{0:.3f}\".format(mean)) + \" Sigma - \"+ str(\"{0:.3f}\".format(sigma)), alpha = 0.7, normed = 1, color = \"purple\", edgecolor = \"black\", bins = 20)\n",
    "        axarr[jj//ncol, jj%ncol ].set_title(name + r': $\\mu$=' +str(\"{0:.3f}\".format(mean)) + r': $\\sigma$='+ str(\"{0:.3f}\".format(sigma)))\n",
    "    plt.show()"
   ]
  },
  {
   "cell_type": "code",
   "execution_count": 21,
   "metadata": {
    "collapsed": false
   },
   "outputs": [
    {
     "name": "stdout",
     "output_type": "stream",
     "text": [
      "['Res_sys_358_500.csv', 'Res_sys_3_500.csv', 'Res_sys_320_500.csv', 'Res_sys_259_500.csv', 'Res_sys_323_500.csv', 'Res_sys_48_500.csv']\n"
     ]
    },
    {
     "data": {
      "image/png": "[encoded data removed]",
      "text/plain": [
       "<matplotlib.figure.Figure at 0x7f0462a11ef0>"
      ]
     },
     "metadata": {},
     "output_type": "display_data"
    }
   ],
   "source": [
    "very_gaussian = ranked_scores.head(7)[\"ID\"]\n",
    "# The first shows a score of 1, but is infact actually faulty, as\n",
    "# that distribution has one instability time occuring over and over again\n",
    "# which for some reason has a KS score of 1 as well ...\n",
    "very_gaussian = [\"Res_sys_{0}_500.csv\".format(int(x))  for x in very_gaussian][1:]\n",
    "print (very_gaussian)\n",
    "plot_random_hists(very_gaussian)"
   ]
  },
  {
   "cell_type": "code",
   "execution_count": null,
   "metadata": {
    "collapsed": true
   },
   "outputs": [],
   "source": []
  }
 ],
 "metadata": {
  "anaconda-cloud": {},
  "kernelspec": {
   "display_name": "Python [conda env:CSC401]",
   "language": "python",
   "name": "conda-env-CSC401-py"
  },
  "language_info": {
   "codemirror_mode": {
    "name": "ipython",
    "version": 3
   },
   "file_extension": ".py",
   "mimetype": "text/x-python",
   "name": "python",
   "nbconvert_exporter": "python",
   "pygments_lexer": "ipython3",
   "version": "3.6.3"
  }
 },
 "nbformat": 4,
 "nbformat_minor": 1
}
