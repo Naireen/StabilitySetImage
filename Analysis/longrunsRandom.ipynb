{
 "cells": [
  {
   "cell_type": "markdown",
   "metadata": {},
   "source": [
    "# Use REBOUND commit 07d10d1e0d96d9e945ae97a78db9b2028c3ef069 on oldMLstability branch of dtamayo/rebound fork"
   ]
  },
  {
   "cell_type": "code",
   "execution_count": 1,
   "metadata": {},
   "outputs": [],
   "source": [
    "import numpy as np\n",
    "import matplotlib\n",
    "import matplotlib.pyplot as plt\n",
    "%matplotlib inline\n",
    "import pandas as pd\n",
    "import rebound\n",
    "import dask.dataframe as dd\n",
    "from scipy.stats import norm, ks_2samp\n",
    "plt.style.use('paper')"
   ]
  },
  {
   "cell_type": "code",
   "execution_count": 2,
   "metadata": {},
   "outputs": [
    {
     "name": "stdout",
     "output_type": "stream",
     "text": [
      "(266, 3)\n",
      "(248, 3)\n"
     ]
    },
    {
     "data": {
      "text/html": [
       "<div>\n",
       "<style scoped>\n",
       "    .dataframe tbody tr th:only-of-type {\n",
       "        vertical-align: middle;\n",
       "    }\n",
       "\n",
       "    .dataframe tbody tr th {\n",
       "        vertical-align: top;\n",
       "    }\n",
       "\n",
       "    .dataframe thead th {\n",
       "        text-align: right;\n",
       "    }\n",
       "</style>\n",
       "<table border=\"1\" class=\"dataframe\">\n",
       "  <thead>\n",
       "    <tr style=\"text-align: right;\">\n",
       "      <th></th>\n",
       "      <th>ID</th>\n",
       "      <th>Probability</th>\n",
       "      <th>Mean</th>\n",
       "      <th>Sigma</th>\n",
       "      <th>Mean_Error</th>\n",
       "      <th>Sigma_Error</th>\n",
       "      <th>Determinant</th>\n",
       "    </tr>\n",
       "  </thead>\n",
       "  <tbody>\n",
       "    <tr>\n",
       "      <th>0</th>\n",
       "      <td>1007</td>\n",
       "      <td>0.133196</td>\n",
       "      <td>5.587629</td>\n",
       "      <td>0.464593</td>\n",
       "      <td>0.014738</td>\n",
       "      <td>0.010563</td>\n",
       "      <td>2.423315e-08</td>\n",
       "    </tr>\n",
       "    <tr>\n",
       "      <th>1</th>\n",
       "      <td>1021</td>\n",
       "      <td>0.181262</td>\n",
       "      <td>6.003999</td>\n",
       "      <td>0.327314</td>\n",
       "      <td>0.010287</td>\n",
       "      <td>0.007410</td>\n",
       "      <td>5.811603e-09</td>\n",
       "    </tr>\n",
       "    <tr>\n",
       "      <th>2</th>\n",
       "      <td>1025</td>\n",
       "      <td>0.153687</td>\n",
       "      <td>5.794418</td>\n",
       "      <td>0.385985</td>\n",
       "      <td>0.012358</td>\n",
       "      <td>0.008756</td>\n",
       "      <td>1.170601e-08</td>\n",
       "    </tr>\n",
       "    <tr>\n",
       "      <th>3</th>\n",
       "      <td>1041</td>\n",
       "      <td>0.127597</td>\n",
       "      <td>5.730234</td>\n",
       "      <td>0.494415</td>\n",
       "      <td>0.015324</td>\n",
       "      <td>0.011150</td>\n",
       "      <td>2.919534e-08</td>\n",
       "    </tr>\n",
       "    <tr>\n",
       "      <th>4</th>\n",
       "      <td>10518</td>\n",
       "      <td>0.144064</td>\n",
       "      <td>6.465849</td>\n",
       "      <td>0.431597</td>\n",
       "      <td>0.013325</td>\n",
       "      <td>0.009608</td>\n",
       "      <td>1.638141e-08</td>\n",
       "    </tr>\n",
       "  </tbody>\n",
       "</table>\n",
       "</div>"
      ],
      "text/plain": [
       "      ID  Probability      Mean     Sigma  Mean_Error  Sigma_Error  \\\n",
       "0   1007     0.133196  5.587629  0.464593    0.014738     0.010563   \n",
       "1   1021     0.181262  6.003999  0.327314    0.010287     0.007410   \n",
       "2   1025     0.153687  5.794418  0.385985    0.012358     0.008756   \n",
       "3   1041     0.127597  5.730234  0.494415    0.015324     0.011150   \n",
       "4  10518     0.144064  6.465849  0.431597    0.013325     0.009608   \n",
       "\n",
       "    Determinant  \n",
       "0  2.423315e-08  \n",
       "1  5.811603e-09  \n",
       "2  1.170601e-08  \n",
       "3  2.919534e-08  \n",
       "4  1.638141e-08  "
      ]
     },
     "execution_count": 2,
     "metadata": {},
     "output_type": "execute_result"
    }
   ],
   "source": [
    "csvpath = '../csvs/random/random_features/'\n",
    "distpath = '../../stabilitydataset/data/random/initial_conditions/runs/'\n",
    "#save data\n",
    "#info.to_csv(\"../../Figures/MCMCFigures/ProbabilityTable_Fixed_Covariences_{0}.csv\".format(info.shape[0]))\n",
    "\n",
    "#FILTER DATA (between 1e4 and 1e7)\n",
    "info = pd.read_csv(\"../csvs/random/Gaussian_Fits_266.csv\", index_col=0)\n",
    "\n",
    "#fully integrated data\n",
    "short_feats = pd.read_csv(\"../csvs/random/deltatimes.csv\", index_col =0 )\n",
    "subsystem = info[\"ID\"].values.astype(int)\n",
    "sub_short = short_feats.loc[subsystem]\n",
    "print(sub_short.shape)\n",
    "\n",
    "#filtered data params\n",
    "filtered = sub_short[ (sub_short[\"t\"]>1e4) & (sub_short[\"t\"]<1e7) &\n",
    "                    (sub_short[\"t_shadow\"]>1e4 ) & (sub_short[\"t_shadow\"]<1e7) ] \n",
    "\n",
    "print(filtered.shape)\n",
    "filtered_inds = filtered.index\n",
    "#df.loc[df['column_name'].isin(some_values)]\n",
    "df = info.loc[info[\"ID\"].isin(filtered_inds)] \n",
    "df = df[['ID', 'Mean', 'Sigma']]\n",
    "df.head()"
   ]
  },
  {
   "cell_type": "code",
   "execution_count": 3,
   "metadata": {},
   "outputs": [
    {
     "data": {
      "text/plain": [
       "(248, 7)"
      ]
     },
     "execution_count": 3,
     "metadata": {},
     "output_type": "execute_result"
    }
   ],
   "source": [
    "df.shape"
   ]
  },
  {
   "cell_type": "code",
   "execution_count": 4,
   "metadata": {},
   "outputs": [
    {
     "data": {
      "text/plain": [
       "(244, 7)"
      ]
     },
     "execution_count": 4,
     "metadata": {},
     "output_type": "execute_result"
    }
   ],
   "source": [
    "df = df[(df['Mean'] > 4) & (df['Mean'] < 7)]\n",
    "df.shape"
   ]
  },
  {
   "cell_type": "code",
   "execution_count": 5,
   "metadata": {},
   "outputs": [
    {
     "data": {
      "text/html": [
       "<div>\n",
       "<style scoped>\n",
       "    .dataframe tbody tr th:only-of-type {\n",
       "        vertical-align: middle;\n",
       "    }\n",
       "\n",
       "    .dataframe tbody tr th {\n",
       "        vertical-align: top;\n",
       "    }\n",
       "\n",
       "    .dataframe thead th {\n",
       "        text-align: right;\n",
       "    }\n",
       "</style>\n",
       "<table border=\"1\" class=\"dataframe\">\n",
       "  <thead>\n",
       "    <tr style=\"text-align: right;\">\n",
       "      <th></th>\n",
       "      <th>runstring</th>\n",
       "      <th>instability_time</th>\n",
       "      <th>shadow_instability_time</th>\n",
       "      <th>Stable</th>\n",
       "    </tr>\n",
       "  </thead>\n",
       "  <tbody>\n",
       "    <tr>\n",
       "      <th>0</th>\n",
       "      <td>0000000.bin</td>\n",
       "      <td>1.235665e+07</td>\n",
       "      <td>8.315223e+07</td>\n",
       "      <td>False</td>\n",
       "    </tr>\n",
       "    <tr>\n",
       "      <th>1</th>\n",
       "      <td>0000001.bin</td>\n",
       "      <td>1.348749e+05</td>\n",
       "      <td>2.133072e+05</td>\n",
       "      <td>False</td>\n",
       "    </tr>\n",
       "    <tr>\n",
       "      <th>2</th>\n",
       "      <td>0000002.bin</td>\n",
       "      <td>1.276428e+04</td>\n",
       "      <td>9.321863e+03</td>\n",
       "      <td>False</td>\n",
       "    </tr>\n",
       "    <tr>\n",
       "      <th>3</th>\n",
       "      <td>0000003.bin</td>\n",
       "      <td>1.000000e+09</td>\n",
       "      <td>1.000000e+09</td>\n",
       "      <td>True</td>\n",
       "    </tr>\n",
       "    <tr>\n",
       "      <th>4</th>\n",
       "      <td>0000004.bin</td>\n",
       "      <td>8.791890e+01</td>\n",
       "      <td>8.791890e+01</td>\n",
       "      <td>False</td>\n",
       "    </tr>\n",
       "  </tbody>\n",
       "</table>\n",
       "</div>"
      ],
      "text/plain": [
       "     runstring  instability_time  shadow_instability_time  Stable\n",
       "0  0000000.bin      1.235665e+07             8.315223e+07   False\n",
       "1  0000001.bin      1.348749e+05             2.133072e+05   False\n",
       "2  0000002.bin      1.276428e+04             9.321863e+03   False\n",
       "3  0000003.bin      1.000000e+09             1.000000e+09    True\n",
       "4  0000004.bin      8.791890e+01             8.791890e+01   False"
      ]
     },
     "execution_count": 5,
     "metadata": {},
     "output_type": "execute_result"
    }
   ],
   "source": [
    "labels = pd.read_csv('../../MLstability/training_data/random/labels.csv', index_col=0)\n",
    "labels.head()"
   ]
  },
  {
   "cell_type": "code",
   "execution_count": 6,
   "metadata": {},
   "outputs": [
    {
     "data": {
      "text/plain": [
       "<matplotlib.axes._subplots.AxesSubplot at 0x7f07026b37f0>"
      ]
     },
     "execution_count": 6,
     "metadata": {},
     "output_type": "execute_result"
    },
    {
     "data": {
      "image/png": "[encoded data removed]",
      "text/plain": [
       "<Figure size 432x288 with 1 Axes>"
      ]
     },
     "metadata": {
      "needs_background": "light"
     },
     "output_type": "display_data"
    }
   ],
   "source": [
    "df['Mean'].hist()"
   ]
  },
  {
   "cell_type": "code",
   "execution_count": 7,
   "metadata": {},
   "outputs": [
    {
     "data": {
      "text/plain": [
       "<matplotlib.axes._subplots.AxesSubplot at 0x7f0702020b00>"
      ]
     },
     "execution_count": 7,
     "metadata": {},
     "output_type": "execute_result"
    },
    {
     "data": {
      "image/png": "[encoded data removed]",
      "text/plain": [
       "<Figure size 432x288 with 1 Axes>"
      ]
     },
     "metadata": {
      "needs_background": "light"
     },
     "output_type": "display_data"
    }
   ],
   "source": [
    "np.log10(labels.loc[df['ID']]['instability_time']).hist()"
   ]
  },
  {
   "cell_type": "code",
   "execution_count": 8,
   "metadata": {},
   "outputs": [
    {
     "data": {
      "text/plain": [
       "<matplotlib.axes._subplots.AxesSubplot at 0x7f07020a9860>"
      ]
     },
     "execution_count": 8,
     "metadata": {},
     "output_type": "execute_result"
    },
    {
     "data": {
      "image/png": "[encoded data removed]",
      "text/plain": [
       "<Figure size 432x288 with 1 Axes>"
      ]
     },
     "metadata": {
      "needs_background": "light"
     },
     "output_type": "display_data"
    }
   ],
   "source": [
    "mask = (labels['instability_time']>1e4) & (labels['instability_time']<9.99e8)\n",
    "np.log10(labels[mask]['instability_time']).hist()"
   ]
  },
  {
   "cell_type": "code",
   "execution_count": 9,
   "metadata": {},
   "outputs": [
    {
     "data": {
      "text/plain": [
       "0.30452"
      ]
     },
     "execution_count": 9,
     "metadata": {},
     "output_type": "execute_result"
    }
   ],
   "source": [
    "mask.sum()/labels.shape[0]"
   ]
  },
  {
   "cell_type": "code",
   "execution_count": 10,
   "metadata": {},
   "outputs": [],
   "source": [
    "def collision(reb_sim, col):\n",
    "    reb_sim.contents._status = 5\n",
    "    return 0\n",
    "\n",
    "def runsplit(row):\n",
    "    tmax = 1e7\n",
    "    ID = int(row['ID'])\n",
    "    row['instability_time'] = labels.loc[ID, 'instability_time']\n",
    "\n",
    "    np.random.seed(3)\n",
    "    data =pd.read_csv(csvpath + \"Sys_{0}_1e8.csv\".format(ID), index_col = 0)\n",
    "    del data[\"Unnamed: 0.1\"]\n",
    "    del data[\"runstring\"]\n",
    "    data = data[data[\"t\"]<1e8]\n",
    "    data = np.log10(data[\"t\"].values)\n",
    "\n",
    "    # normal we want to match\n",
    "    test = np.random.normal(loc=row[\"Mean\"], scale=row[\"Sigma\"], size = data.shape[0])\n",
    "\n",
    "    #ks test\n",
    "    try:\n",
    "        statistic, KSpval = ks_2samp(data, test)\n",
    "    except:\n",
    "        statistic, KSpval = 0,0\n",
    "        \n",
    "    row['KSpval'] = KSpval\n",
    "    \n",
    "    file = distpath+\"ic{0:0=7d}.bin\".format(ID)\n",
    "    sim = rebound.Simulation.from_file(file)\n",
    "    sim.ri_whfast.keep_unsynchronized = 1\n",
    "    sim.collision_resolve=collision\n",
    "    sim.init_megno(seed=0)\n",
    "\n",
    "    Nout = 1000\n",
    "    times = np.logspace(0, np.log10(tmax), Nout)\n",
    "    P0 = sim.particles[1].P\n",
    "\n",
    "    row['tlyap10'] = np.nan\n",
    "    row['megno10'] = np.nan\n",
    "    row['Nlyap10'] = np.nan\n",
    "    \n",
    "    sim.integrate(row['instability_time']/10, exact_finish_time=0)\n",
    "    row['tlyap10'] = 1/sim.calculate_lyapunov()/P0\n",
    "    if row['tlyap10'] < 0 or row['tlyap10'] > sim.t:\n",
    "        row['tlyap10'] = sim.t\n",
    "    row['megno10'] = sim.calculate_megno()\n",
    "    row['Nlyap10'] = row['instability_time']  / row['tlyap10']\n",
    "    \n",
    "    return row"
   ]
  },
  {
   "cell_type": "markdown",
   "metadata": {},
   "source": [
    "# We don't get exactly the same instability time when rerunning stopping along the way because the original integrations are using unsynced positions to detect collisions and megno syncs them. But that's fine. We always get very close, because it's once the orbits are crossing that we start finding collisions (synced or unsynced). This is a demonstration that the exact details of detecting collisions doesn't matter. We've also already checked reproducibility when we do a single sim.integrate (see test_notebooks) and here we just want the lyap times"
   ]
  },
  {
   "cell_type": "code",
   "execution_count": 11,
   "metadata": {},
   "outputs": [
    {
     "name": "stderr",
     "output_type": "stream",
     "text": [
      "/home/dtamayo/miniconda3/envs/ml/lib/python3.7/site-packages/ipykernel_launcher.py:8: SettingWithCopyWarning: \n",
      "A value is trying to be set on a copy of a slice from a DataFrame\n",
      "\n",
      "See the caveats in the documentation: http://pandas.pydata.org/pandas-docs/stable/indexing.html#indexing-view-versus-copy\n",
      "  \n",
      "/home/dtamayo/miniconda3/envs/ml/lib/python3.7/site-packages/pandas/core/series.py:1015: SettingWithCopyWarning: \n",
      "A value is trying to be set on a copy of a slice from a DataFrame\n",
      "\n",
      "See the caveats in the documentation: http://pandas.pydata.org/pandas-docs/stable/indexing.html#indexing-view-versus-copy\n",
      "  self.loc[key] = value\n",
      "/home/dtamayo/miniconda3/envs/ml/lib/python3.7/site-packages/ipykernel_launcher.py:26: SettingWithCopyWarning: \n",
      "A value is trying to be set on a copy of a slice from a DataFrame\n",
      "\n",
      "See the caveats in the documentation: http://pandas.pydata.org/pandas-docs/stable/indexing.html#indexing-view-versus-copy\n",
      "/mnt/ssd/Dropbox/Dropbox (Princeton)/workspace/rebound/rebound/simulation.py:374: RuntimeWarning: You have to reset function pointers after creating a reb_simulation struct with a binary file.\n",
      "  warnings.warn(message, RuntimeWarning)\n",
      "/home/dtamayo/miniconda3/envs/ml/lib/python3.7/site-packages/ipykernel_launcher.py:38: SettingWithCopyWarning: \n",
      "A value is trying to be set on a copy of a slice from a DataFrame\n",
      "\n",
      "See the caveats in the documentation: http://pandas.pydata.org/pandas-docs/stable/indexing.html#indexing-view-versus-copy\n",
      "/home/dtamayo/miniconda3/envs/ml/lib/python3.7/site-packages/ipykernel_launcher.py:39: SettingWithCopyWarning: \n",
      "A value is trying to be set on a copy of a slice from a DataFrame\n",
      "\n",
      "See the caveats in the documentation: http://pandas.pydata.org/pandas-docs/stable/indexing.html#indexing-view-versus-copy\n",
      "/home/dtamayo/miniconda3/envs/ml/lib/python3.7/site-packages/ipykernel_launcher.py:40: SettingWithCopyWarning: \n",
      "A value is trying to be set on a copy of a slice from a DataFrame\n",
      "\n",
      "See the caveats in the documentation: http://pandas.pydata.org/pandas-docs/stable/indexing.html#indexing-view-versus-copy\n",
      "/home/dtamayo/miniconda3/envs/ml/lib/python3.7/site-packages/ipykernel_launcher.py:43: SettingWithCopyWarning: \n",
      "A value is trying to be set on a copy of a slice from a DataFrame\n",
      "\n",
      "See the caveats in the documentation: http://pandas.pydata.org/pandas-docs/stable/indexing.html#indexing-view-versus-copy\n",
      "/home/dtamayo/miniconda3/envs/ml/lib/python3.7/site-packages/ipykernel_launcher.py:46: SettingWithCopyWarning: \n",
      "A value is trying to be set on a copy of a slice from a DataFrame\n",
      "\n",
      "See the caveats in the documentation: http://pandas.pydata.org/pandas-docs/stable/indexing.html#indexing-view-versus-copy\n",
      "/home/dtamayo/miniconda3/envs/ml/lib/python3.7/site-packages/ipykernel_launcher.py:47: SettingWithCopyWarning: \n",
      "A value is trying to be set on a copy of a slice from a DataFrame\n",
      "\n",
      "See the caveats in the documentation: http://pandas.pydata.org/pandas-docs/stable/indexing.html#indexing-view-versus-copy\n",
      "/mnt/ssd/Dropbox/Dropbox (Princeton)/workspace/rebound/rebound/simulation.py:374: RuntimeWarning: You have to reset function pointers after creating a reb_simulation struct with a binary file.\n",
      "  warnings.warn(message, RuntimeWarning)\n",
      "/mnt/ssd/Dropbox/Dropbox (Princeton)/workspace/rebound/rebound/simulation.py:374: RuntimeWarning: You have to reset function pointers after creating a reb_simulation struct with a binary file.\n",
      "  warnings.warn(message, RuntimeWarning)\n",
      "/mnt/ssd/Dropbox/Dropbox (Princeton)/workspace/rebound/rebound/simulation.py:374: RuntimeWarning: You have to reset function pointers after creating a reb_simulation struct with a binary file.\n",
      "  warnings.warn(message, RuntimeWarning)\n",
      "/mnt/ssd/Dropbox/Dropbox (Princeton)/workspace/rebound/rebound/simulation.py:374: RuntimeWarning: You have to reset function pointers after creating a reb_simulation struct with a binary file.\n",
      "  warnings.warn(message, RuntimeWarning)\n",
      "/mnt/ssd/Dropbox/Dropbox (Princeton)/workspace/rebound/rebound/simulation.py:374: RuntimeWarning: You have to reset function pointers after creating a reb_simulation struct with a binary file.\n",
      "  warnings.warn(message, RuntimeWarning)\n",
      "/mnt/ssd/Dropbox/Dropbox (Princeton)/workspace/rebound/rebound/simulation.py:374: RuntimeWarning: You have to reset function pointers after creating a reb_simulation struct with a binary file.\n",
      "  warnings.warn(message, RuntimeWarning)\n",
      "/mnt/ssd/Dropbox/Dropbox (Princeton)/workspace/rebound/rebound/simulation.py:374: RuntimeWarning: You have to reset function pointers after creating a reb_simulation struct with a binary file.\n",
      "  warnings.warn(message, RuntimeWarning)\n",
      "/mnt/ssd/Dropbox/Dropbox (Princeton)/workspace/rebound/rebound/simulation.py:374: RuntimeWarning: You have to reset function pointers after creating a reb_simulation struct with a binary file.\n",
      "  warnings.warn(message, RuntimeWarning)\n",
      "/mnt/ssd/Dropbox/Dropbox (Princeton)/workspace/rebound/rebound/simulation.py:374: RuntimeWarning: You have to reset function pointers after creating a reb_simulation struct with a binary file.\n",
      "  warnings.warn(message, RuntimeWarning)\n",
      "/mnt/ssd/Dropbox/Dropbox (Princeton)/workspace/rebound/rebound/simulation.py:374: RuntimeWarning: You have to reset function pointers after creating a reb_simulation struct with a binary file.\n",
      "  warnings.warn(message, RuntimeWarning)\n",
      "/mnt/ssd/Dropbox/Dropbox (Princeton)/workspace/rebound/rebound/simulation.py:374: RuntimeWarning: You have to reset function pointers after creating a reb_simulation struct with a binary file.\n",
      "  warnings.warn(message, RuntimeWarning)\n",
      "/mnt/ssd/Dropbox/Dropbox (Princeton)/workspace/rebound/rebound/simulation.py:374: RuntimeWarning: You have to reset function pointers after creating a reb_simulation struct with a binary file.\n",
      "  warnings.warn(message, RuntimeWarning)\n",
      "/mnt/ssd/Dropbox/Dropbox (Princeton)/workspace/rebound/rebound/simulation.py:374: RuntimeWarning: You have to reset function pointers after creating a reb_simulation struct with a binary file.\n",
      "  warnings.warn(message, RuntimeWarning)\n",
      "/mnt/ssd/Dropbox/Dropbox (Princeton)/workspace/rebound/rebound/simulation.py:374: RuntimeWarning: You have to reset function pointers after creating a reb_simulation struct with a binary file.\n",
      "  warnings.warn(message, RuntimeWarning)\n",
      "/mnt/ssd/Dropbox/Dropbox (Princeton)/workspace/rebound/rebound/simulation.py:374: RuntimeWarning: You have to reset function pointers after creating a reb_simulation struct with a binary file.\n",
      "  warnings.warn(message, RuntimeWarning)\n",
      "/mnt/ssd/Dropbox/Dropbox (Princeton)/workspace/rebound/rebound/simulation.py:374: RuntimeWarning: You have to reset function pointers after creating a reb_simulation struct with a binary file.\n",
      "  warnings.warn(message, RuntimeWarning)\n",
      "/mnt/ssd/Dropbox/Dropbox (Princeton)/workspace/rebound/rebound/simulation.py:374: RuntimeWarning: You have to reset function pointers after creating a reb_simulation struct with a binary file.\n",
      "  warnings.warn(message, RuntimeWarning)\n",
      "/mnt/ssd/Dropbox/Dropbox (Princeton)/workspace/rebound/rebound/simulation.py:374: RuntimeWarning: You have to reset function pointers after creating a reb_simulation struct with a binary file.\n",
      "  warnings.warn(message, RuntimeWarning)\n",
      "/mnt/ssd/Dropbox/Dropbox (Princeton)/workspace/rebound/rebound/simulation.py:374: RuntimeWarning: You have to reset function pointers after creating a reb_simulation struct with a binary file.\n",
      "  warnings.warn(message, RuntimeWarning)\n",
      "/mnt/ssd/Dropbox/Dropbox (Princeton)/workspace/rebound/rebound/simulation.py:374: RuntimeWarning: You have to reset function pointers after creating a reb_simulation struct with a binary file.\n",
      "  warnings.warn(message, RuntimeWarning)\n",
      "/mnt/ssd/Dropbox/Dropbox (Princeton)/workspace/rebound/rebound/simulation.py:374: RuntimeWarning: You have to reset function pointers after creating a reb_simulation struct with a binary file.\n",
      "  warnings.warn(message, RuntimeWarning)\n",
      "/mnt/ssd/Dropbox/Dropbox (Princeton)/workspace/rebound/rebound/simulation.py:374: RuntimeWarning: You have to reset function pointers after creating a reb_simulation struct with a binary file.\n",
      "  warnings.warn(message, RuntimeWarning)\n",
      "/mnt/ssd/Dropbox/Dropbox (Princeton)/workspace/rebound/rebound/simulation.py:374: RuntimeWarning: You have to reset function pointers after creating a reb_simulation struct with a binary file.\n",
      "  warnings.warn(message, RuntimeWarning)\n"
     ]
    },
    {
     "name": "stdout",
     "output_type": "stream",
     "text": [
      "CPU times: user 4.66 s, sys: 905 ms, total: 5.57 s\n",
      "Wall time: 3min 29s\n"
     ]
    }
   ],
   "source": [
    "%%time\n",
    "ddf = dd.from_pandas(df, npartitions=24)\n",
    "testres = runsplit(df.iloc[0])\n",
    "df = ddf.apply(runsplit, axis=1, meta=pd.DataFrame([testres])).compute(scheduler='processes')"
   ]
  },
  {
   "cell_type": "code",
   "execution_count": 18,
   "metadata": {},
   "outputs": [],
   "source": [
    "df.to_csv(csvpath+'random1e7featuressplit.csv')"
   ]
  }
 ],
 "metadata": {
  "kernelspec": {
   "display_name": "Python 3",
   "language": "python",
   "name": "python3"
  },
  "language_info": {
   "codemirror_mode": {
    "name": "ipython",
    "version": 3
   },
   "file_extension": ".py",
   "mimetype": "text/x-python",
   "name": "python",
   "nbconvert_exporter": "python",
   "pygments_lexer": "ipython3",
   "version": "3.7.3"
  }
 },
 "nbformat": 4,
 "nbformat_minor": 2
}
