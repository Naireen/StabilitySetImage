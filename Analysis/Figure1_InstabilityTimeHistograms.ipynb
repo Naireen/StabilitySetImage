{
 "cells": [
  {
   "cell_type": "code",
   "execution_count": 1,
   "metadata": {},
   "outputs": [],
   "source": [
    "import numpy as np\n",
    "import matplotlib\n",
    "import matplotlib.pyplot as plt\n",
    "%matplotlib inline\n",
    "import pandas as pd\n",
    "from scipy.stats import norm\n",
    "\n",
    "plt.style.use('paper.mplstyle')"
   ]
  },
  {
   "cell_type": "code",
   "execution_count": 10,
   "metadata": {},
   "outputs": [
    {
     "data": {
      "text/html": [
       "<div>\n",
       "<style scoped>\n",
       "    .dataframe tbody tr th:only-of-type {\n",
       "        vertical-align: middle;\n",
       "    }\n",
       "\n",
       "    .dataframe tbody tr th {\n",
       "        vertical-align: top;\n",
       "    }\n",
       "\n",
       "    .dataframe thead th {\n",
       "        text-align: right;\n",
       "    }\n",
       "</style>\n",
       "<table border=\"1\" class=\"dataframe\">\n",
       "  <thead>\n",
       "    <tr style=\"text-align: right;\">\n",
       "      <th></th>\n",
       "      <th>ID</th>\n",
       "      <th>instability_time</th>\n",
       "      <th>Mean</th>\n",
       "      <th>Sigma</th>\n",
       "      <th>KSpval</th>\n",
       "      <th>tlyap10</th>\n",
       "      <th>Nlyap10</th>\n",
       "    </tr>\n",
       "  </thead>\n",
       "  <tbody>\n",
       "    <tr>\n",
       "      <th>312</th>\n",
       "      <td>95</td>\n",
       "      <td>29720.734340</td>\n",
       "      <td>4.520192</td>\n",
       "      <td>0.144736</td>\n",
       "      <td>2.162044e-35</td>\n",
       "      <td>2972.104611</td>\n",
       "      <td>9.999895</td>\n",
       "    </tr>\n",
       "    <tr>\n",
       "      <th>47</th>\n",
       "      <td>140</td>\n",
       "      <td>6769.926289</td>\n",
       "      <td>4.127658</td>\n",
       "      <td>0.376338</td>\n",
       "      <td>7.466267e-29</td>\n",
       "      <td>677.023806</td>\n",
       "      <td>9.999540</td>\n",
       "    </tr>\n",
       "    <tr>\n",
       "      <th>50</th>\n",
       "      <td>143</td>\n",
       "      <td>27414.829370</td>\n",
       "      <td>4.443021</td>\n",
       "      <td>0.011862</td>\n",
       "      <td>2.130629e-25</td>\n",
       "      <td>2741.489865</td>\n",
       "      <td>9.999975</td>\n",
       "    </tr>\n",
       "    <tr>\n",
       "      <th>305</th>\n",
       "      <td>89</td>\n",
       "      <td>18514.720049</td>\n",
       "      <td>4.266680</td>\n",
       "      <td>0.018748</td>\n",
       "      <td>4.568072e-21</td>\n",
       "      <td>1851.492789</td>\n",
       "      <td>9.999888</td>\n",
       "    </tr>\n",
       "    <tr>\n",
       "      <th>210</th>\n",
       "      <td>334</td>\n",
       "      <td>15500.122677</td>\n",
       "      <td>4.211601</td>\n",
       "      <td>0.037430</td>\n",
       "      <td>8.571698e-21</td>\n",
       "      <td>1550.012268</td>\n",
       "      <td>10.000000</td>\n",
       "    </tr>\n",
       "  </tbody>\n",
       "</table>\n",
       "</div>"
      ],
      "text/plain": [
       "      ID  instability_time      Mean     Sigma        KSpval      tlyap10  \\\n",
       "312   95      29720.734340  4.520192  0.144736  2.162044e-35  2972.104611   \n",
       "47   140       6769.926289  4.127658  0.376338  7.466267e-29   677.023806   \n",
       "50   143      27414.829370  4.443021  0.011862  2.130629e-25  2741.489865   \n",
       "305   89      18514.720049  4.266680  0.018748  4.568072e-21  1851.492789   \n",
       "210  334      15500.122677  4.211601  0.037430  8.571698e-21  1550.012268   \n",
       "\n",
       "       Nlyap10  \n",
       "312   9.999895  \n",
       "47    9.999540  \n",
       "50    9.999975  \n",
       "305   9.999888  \n",
       "210  10.000000  "
      ]
     },
     "execution_count": 10,
     "metadata": {},
     "output_type": "execute_result"
    }
   ],
   "source": [
    "dfres = pd.read_csv('../csvs/resonant_summary.csv', index_col=0)\n",
    "dfres = dfres[(dfres['Mean'] > 4) & (dfres['Mean'] < 7)]\n",
    "dfres = dfres.sort_values(['KSpval'])\n",
    "dfres.head()"
   ]
  },
  {
   "cell_type": "code",
   "execution_count": 11,
   "metadata": {},
   "outputs": [
    {
     "data": {
      "text/plain": [
       "(208, 7)"
      ]
     },
     "execution_count": 11,
     "metadata": {},
     "output_type": "execute_result"
    }
   ],
   "source": [
    "dfres.shape"
   ]
  },
  {
   "cell_type": "code",
   "execution_count": 13,
   "metadata": {},
   "outputs": [
    {
     "data": {
      "text/html": [
       "<div>\n",
       "<style scoped>\n",
       "    .dataframe tbody tr th:only-of-type {\n",
       "        vertical-align: middle;\n",
       "    }\n",
       "\n",
       "    .dataframe tbody tr th {\n",
       "        vertical-align: top;\n",
       "    }\n",
       "\n",
       "    .dataframe thead th {\n",
       "        text-align: right;\n",
       "    }\n",
       "</style>\n",
       "<table border=\"1\" class=\"dataframe\">\n",
       "  <thead>\n",
       "    <tr style=\"text-align: right;\">\n",
       "      <th></th>\n",
       "      <th>ID</th>\n",
       "      <th>instability_time</th>\n",
       "      <th>Mean</th>\n",
       "      <th>Sigma</th>\n",
       "      <th>KSpval</th>\n",
       "      <th>tlyap10</th>\n",
       "      <th>Nlyap10</th>\n",
       "    </tr>\n",
       "  </thead>\n",
       "  <tbody>\n",
       "    <tr>\n",
       "      <th>104</th>\n",
       "      <td>1829</td>\n",
       "      <td>129469.025972</td>\n",
       "      <td>5.132239</td>\n",
       "      <td>0.040250</td>\n",
       "      <td>8.257232e-67</td>\n",
       "      <td>12946.933774</td>\n",
       "      <td>9.999976</td>\n",
       "    </tr>\n",
       "    <tr>\n",
       "      <th>45</th>\n",
       "      <td>1364</td>\n",
       "      <td>50587.936965</td>\n",
       "      <td>4.704075</td>\n",
       "      <td>0.048083</td>\n",
       "      <td>5.529756e-63</td>\n",
       "      <td>5058.824873</td>\n",
       "      <td>9.999938</td>\n",
       "    </tr>\n",
       "    <tr>\n",
       "      <th>68</th>\n",
       "      <td>1601</td>\n",
       "      <td>27313.034961</td>\n",
       "      <td>4.454412</td>\n",
       "      <td>0.082612</td>\n",
       "      <td>2.807532e-60</td>\n",
       "      <td>2731.303496</td>\n",
       "      <td>10.000000</td>\n",
       "    </tr>\n",
       "    <tr>\n",
       "      <th>189</th>\n",
       "      <td>2215</td>\n",
       "      <td>62687.892720</td>\n",
       "      <td>4.468204</td>\n",
       "      <td>0.195881</td>\n",
       "      <td>5.327733e-48</td>\n",
       "      <td>425.825359</td>\n",
       "      <td>147.215029</td>\n",
       "    </tr>\n",
       "    <tr>\n",
       "      <th>219</th>\n",
       "      <td>2364</td>\n",
       "      <td>77526.185819</td>\n",
       "      <td>4.931914</td>\n",
       "      <td>0.091978</td>\n",
       "      <td>7.847683e-40</td>\n",
       "      <td>7752.622046</td>\n",
       "      <td>9.999996</td>\n",
       "    </tr>\n",
       "  </tbody>\n",
       "</table>\n",
       "</div>"
      ],
      "text/plain": [
       "       ID  instability_time      Mean     Sigma        KSpval       tlyap10  \\\n",
       "104  1829     129469.025972  5.132239  0.040250  8.257232e-67  12946.933774   \n",
       "45   1364      50587.936965  4.704075  0.048083  5.529756e-63   5058.824873   \n",
       "68   1601      27313.034961  4.454412  0.082612  2.807532e-60   2731.303496   \n",
       "189  2215      62687.892720  4.468204  0.195881  5.327733e-48    425.825359   \n",
       "219  2364      77526.185819  4.931914  0.091978  7.847683e-40   7752.622046   \n",
       "\n",
       "        Nlyap10  \n",
       "104    9.999976  \n",
       "45     9.999938  \n",
       "68    10.000000  \n",
       "189  147.215029  \n",
       "219    9.999996  "
      ]
     },
     "execution_count": 13,
     "metadata": {},
     "output_type": "execute_result"
    }
   ],
   "source": [
    "dfrand = pd.read_csv('../csvs/random_summary.csv', index_col=0)\n",
    "dfrand = dfrand[(dfrand['Mean'] > 4) & (dfrand['Mean'] < 7)]\n",
    "dfrand = dfrand.sort_values(['KSpval'])\n",
    "dfrand.head()"
   ]
  },
  {
   "cell_type": "code",
   "execution_count": 14,
   "metadata": {},
   "outputs": [
    {
     "data": {
      "text/plain": [
       "(246, 7)"
      ]
     },
     "execution_count": 14,
     "metadata": {},
     "output_type": "execute_result"
    }
   ],
   "source": [
    "dfrand.shape"
   ]
  },
  {
   "cell_type": "code",
   "execution_count": 15,
   "metadata": {},
   "outputs": [],
   "source": [
    "def quantile_hist(quantile, df, dataset, bins):\n",
    "    quant = df[df['KSpval'] < df.quantile(quantile)['KSpval']]\n",
    "    ID = int(quant.loc[quant['KSpval'].idxmax()]['ID'])\n",
    "    \n",
    "    if dataset == 'random':\n",
    "        csvpath = '../csvs/random_distributions/'\n",
    "        csv = csvpath+'Sys_{0}_1000.csv'.format(ID)\n",
    "    elif dataset == 'resonant':\n",
    "        csvpath = '../csvs/resonant_distributions/'\n",
    "        csv = csvpath+'Res_sys_{0}_500.csv'.format(ID)\n",
    "    else:\n",
    "        raise AttributeError(\"typo\")\n",
    "        \n",
    "    data = pd.read_csv(csv, index_col = 0)\n",
    "    data = data[data[\"t\"]<1e8]\n",
    "    logt = np.log10(data[\"t\"])\n",
    "\n",
    "    vals, edges = np.histogram(logt, bins, density=True)\n",
    "    mean, sigma =  df[df[\"ID\"]==int(ID)][[\"Mean\", \"Sigma\"]].values[0]\n",
    "    x = np.linspace(3,8,100)\n",
    "    gaussian = norm.pdf(x, mean, sigma)\n",
    "    \n",
    "    return vals, edges, gaussian"
   ]
  },
  {
   "cell_type": "code",
   "execution_count": 31,
   "metadata": {},
   "outputs": [
    {
     "data": {
      "image/png": "[encoded data removed]",
      "text/plain": [
       "<Figure size 576x864 with 10 Axes>"
      ]
     },
     "metadata": {
      "needs_background": "light"
     },
     "output_type": "display_data"
    }
   ],
   "source": [
    "bins=15\n",
    "quantiles = [0.01, 0.05, 0.33, 0.67, 1.]\n",
    "\n",
    "fig, axarr = plt.subplots(ncols=2, nrows=len(quantiles), figsize=(8,12))\n",
    "\n",
    "for i, quantile in enumerate(quantiles):\n",
    "    col=0\n",
    "    vals, edges, gaussian = quantile_hist(quantile, dfrand, 'random', bins)\n",
    "    axarr[i, col].bar(edges[:-1], vals, ec='k', fc='magenta', width=np.diff(edges), align=\"edge\")\n",
    "    axarr[i, col].plot(np.linspace(3,8,100), gaussian, linewidth = 3, c='k')\n",
    "    \n",
    "    col=1\n",
    "    vals, edges, gaussian = quantile_hist(quantile, dfres, 'resonant', bins)\n",
    "    axarr[i, col].bar(edges[:-1], vals, ec='k', fc='magenta', width=np.diff(edges), align=\"edge\")\n",
    "    axarr[i, col].plot(np.linspace(3,8,100), gaussian, linewidth = 3, c='k')\n",
    "\n",
    "for ax in axarr.flatten():\n",
    "    ax.set_xlim([3,8])\n",
    "    ax.tick_params(\n",
    "        axis='both',          \n",
    "        which='both',    \n",
    "        left=False,\n",
    "        bottom=False,\n",
    "        labelleft=False,\n",
    "        labelbottom=False)\n",
    "\n",
    "for ax in axarr[-1,:]:\n",
    "    ax.tick_params(\n",
    "        axis='x',          \n",
    "        which='both',    \n",
    "        bottom=True,\n",
    "        labelbottom=True)\n",
    "    \n",
    "axarr[0,0].set_ylabel('Worst Fit', fontsize=15)\n",
    "axarr[1,0].set_ylabel('Cutoff\\n5th Percentile', fontsize=15)\n",
    "axarr[2,0].set_ylabel('33rd Percentile', fontsize=15)\n",
    "axarr[3,0].set_ylabel('67th Percentile', fontsize=15)\n",
    "axarr[4,0].set_ylabel('Best Fit', fontsize=15)\n",
    "   \n",
    "axarr[0,0].set_title('Random Dataset', fontsize=18)\n",
    "axarr[0,1].set_title('Resonant Dataset', fontsize=18)\n",
    "plt.figtext(0.5,0.06, \"Log Instability Time (# Orbits)\", figure=fig, ha=\"center\", size=18)\n",
    "plt.figtext(0.,0.25, \"95% of systems\", figure=fig, rotation='vertical', size=24)\n",
    "plt.figtext(0.,0.65, \"5% of systems\", figure=fig, rotation='vertical', size=24)\n",
    "plt.figtext(.93,0.25, \"'Lognormal'\", figure=fig, rotation='vertical', size=24)\n",
    "plt.figtext(.93,0.7, \"'Peaked'\", figure=fig, rotation='vertical', size=24)\n",
    "\n",
    "\n",
    "line = plt.Line2D([0,1],[0.58,0.58], transform=fig.transFigure, color=\"black\")\n",
    "fig.add_artist(line)\n",
    "fig.savefig('fig1.pdf', bbox_inches='tight')"
   ]
  },
  {
   "cell_type": "code",
   "execution_count": 32,
   "metadata": {},
   "outputs": [
    {
     "data": {
      "text/plain": [
       "1.7691168522712816e-07"
      ]
     },
     "execution_count": 32,
     "metadata": {},
     "output_type": "execute_result"
    }
   ],
   "source": [
    "cutoffres = dfres.quantile(0.05)['KSpval']\n",
    "cutoffres"
   ]
  },
  {
   "cell_type": "code",
   "execution_count": 33,
   "metadata": {},
   "outputs": [
    {
     "data": {
      "text/plain": [
       "4.636831044889583e-27"
      ]
     },
     "execution_count": 33,
     "metadata": {},
     "output_type": "execute_result"
    }
   ],
   "source": [
    "cutoffrand = dfrand.quantile(0.05)['KSpval']\n",
    "cutoffrand"
   ]
  },
  {
   "cell_type": "code",
   "execution_count": 34,
   "metadata": {},
   "outputs": [
    {
     "data": {
      "text/plain": [
       "<matplotlib.axes._subplots.AxesSubplot at 0x7fc694615198>"
      ]
     },
     "execution_count": 34,
     "metadata": {},
     "output_type": "execute_result"
    },
    {
     "data": {
      "image/png": "[encoded data removed]",
      "text/plain": [
       "<Figure size 432x288 with 1 Axes>"
      ]
     },
     "metadata": {
      "needs_background": "light"
     },
     "output_type": "display_data"
    }
   ],
   "source": [
    "np.log10(dfres['KSpval']).hist(bins=30)"
   ]
  },
  {
   "cell_type": "code",
   "execution_count": 35,
   "metadata": {},
   "outputs": [
    {
     "data": {
      "text/plain": [
       "<matplotlib.axes._subplots.AxesSubplot at 0x7fc694770358>"
      ]
     },
     "execution_count": 35,
     "metadata": {},
     "output_type": "execute_result"
    },
    {
     "data": {
      "image/png": "[encoded data removed]",
      "text/plain": [
       "<Figure size 432x288 with 1 Axes>"
      ]
     },
     "metadata": {
      "needs_background": "light"
     },
     "output_type": "display_data"
    }
   ],
   "source": [
    "np.log10(dfrand['KSpval']).hist(bins=30)"
   ]
  },
  {
   "cell_type": "code",
   "execution_count": null,
   "metadata": {},
   "outputs": [],
   "source": []
  }
 ],
 "metadata": {
  "kernelspec": {
   "display_name": "Python 3",
   "language": "python",
   "name": "python3"
  },
  "language_info": {
   "codemirror_mode": {
    "name": "ipython",
    "version": 3
   },
   "file_extension": ".py",
   "mimetype": "text/x-python",
   "name": "python",
   "nbconvert_exporter": "python",
   "pygments_lexer": "ipython3",
   "version": "3.7.3"
  }
 },
 "nbformat": 4,
 "nbformat_minor": 2
}
