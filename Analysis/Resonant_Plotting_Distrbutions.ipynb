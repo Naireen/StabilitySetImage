{
 "cells": [
  {
   "cell_type": "code",
   "execution_count": 1,
   "metadata": {},
   "outputs": [],
   "source": [
    "import numpy as np\n",
    "import matplotlib.pyplot as plt\n",
    "import pandas as pd\n",
    "from scipy.stats import norm"
   ]
  },
  {
   "cell_type": "code",
   "execution_count": 2,
   "metadata": {},
   "outputs": [
    {
     "data": {
      "text/html": [
       "<div>\n",
       "<style scoped>\n",
       "    .dataframe tbody tr th:only-of-type {\n",
       "        vertical-align: middle;\n",
       "    }\n",
       "\n",
       "    .dataframe tbody tr th {\n",
       "        vertical-align: top;\n",
       "    }\n",
       "\n",
       "    .dataframe thead th {\n",
       "        text-align: right;\n",
       "    }\n",
       "</style>\n",
       "<table border=\"1\" class=\"dataframe\">\n",
       "  <thead>\n",
       "    <tr style=\"text-align: right;\">\n",
       "      <th></th>\n",
       "      <th>ID</th>\n",
       "      <th>Probability</th>\n",
       "      <th>Mean</th>\n",
       "      <th>Sigma</th>\n",
       "      <th>Mean_Error</th>\n",
       "      <th>Sigma_Error</th>\n",
       "      <th>Determinant</th>\n",
       "    </tr>\n",
       "  </thead>\n",
       "  <tbody>\n",
       "    <tr>\n",
       "      <td>0</td>\n",
       "      <td>0.0</td>\n",
       "      <td>0.477081</td>\n",
       "      <td>3.787575</td>\n",
       "      <td>3.756347e-01</td>\n",
       "      <td>0.016731</td>\n",
       "      <td>0.012379</td>\n",
       "      <td>4.282621e-08</td>\n",
       "    </tr>\n",
       "    <tr>\n",
       "      <td>1</td>\n",
       "      <td>1.0</td>\n",
       "      <td>inf</td>\n",
       "      <td>8.000000</td>\n",
       "      <td>6.408911e-54</td>\n",
       "      <td>inf</td>\n",
       "      <td>inf</td>\n",
       "      <td>inf</td>\n",
       "    </tr>\n",
       "    <tr>\n",
       "      <td>2</td>\n",
       "      <td>2.0</td>\n",
       "      <td>inf</td>\n",
       "      <td>8.000000</td>\n",
       "      <td>2.259911e-52</td>\n",
       "      <td>inf</td>\n",
       "      <td>inf</td>\n",
       "      <td>inf</td>\n",
       "    </tr>\n",
       "    <tr>\n",
       "      <td>3</td>\n",
       "      <td>3.0</td>\n",
       "      <td>0.591132</td>\n",
       "      <td>6.837504</td>\n",
       "      <td>3.065434e-01</td>\n",
       "      <td>0.013839</td>\n",
       "      <td>0.009772</td>\n",
       "      <td>1.828421e-08</td>\n",
       "    </tr>\n",
       "    <tr>\n",
       "      <td>4</td>\n",
       "      <td>4.0</td>\n",
       "      <td>0.763205</td>\n",
       "      <td>5.687568</td>\n",
       "      <td>2.398376e-01</td>\n",
       "      <td>0.010566</td>\n",
       "      <td>0.007649</td>\n",
       "      <td>6.523258e-09</td>\n",
       "    </tr>\n",
       "  </tbody>\n",
       "</table>\n",
       "</div>"
      ],
      "text/plain": [
       "    ID  Probability      Mean         Sigma  Mean_Error  Sigma_Error  \\\n",
       "0  0.0     0.477081  3.787575  3.756347e-01    0.016731     0.012379   \n",
       "1  1.0          inf  8.000000  6.408911e-54         inf          inf   \n",
       "2  2.0          inf  8.000000  2.259911e-52         inf          inf   \n",
       "3  3.0     0.591132  6.837504  3.065434e-01    0.013839     0.009772   \n",
       "4  4.0     0.763205  5.687568  2.398376e-01    0.010566     0.007649   \n",
       "\n",
       "    Determinant  \n",
       "0  4.282621e-08  \n",
       "1           inf  \n",
       "2           inf  \n",
       "3  1.828421e-08  \n",
       "4  6.523258e-09  "
      ]
     },
     "execution_count": 2,
     "metadata": {},
     "output_type": "execute_result"
    }
   ],
   "source": [
    "info = pd.read_csv(\"../csvs/resonant/Gaussian_Fits_317.csv\")\n",
    "info.head()"
   ]
  },
  {
   "cell_type": "code",
   "execution_count": 4,
   "metadata": {},
   "outputs": [
    {
     "data": {
      "text/html": [
       "<div>\n",
       "<style scoped>\n",
       "    .dataframe tbody tr th:only-of-type {\n",
       "        vertical-align: middle;\n",
       "    }\n",
       "\n",
       "    .dataframe tbody tr th {\n",
       "        vertical-align: top;\n",
       "    }\n",
       "\n",
       "    .dataframe thead th {\n",
       "        text-align: right;\n",
       "    }\n",
       "</style>\n",
       "<table border=\"1\" class=\"dataframe\">\n",
       "  <thead>\n",
       "    <tr style=\"text-align: right;\">\n",
       "      <th></th>\n",
       "      <th>ID</th>\n",
       "      <th>Anderson_P</th>\n",
       "      <th>KS_P</th>\n",
       "    </tr>\n",
       "  </thead>\n",
       "  <tbody>\n",
       "    <tr>\n",
       "      <td>0</td>\n",
       "      <td>3.0</td>\n",
       "      <td>0.2500</td>\n",
       "      <td>0.718919</td>\n",
       "    </tr>\n",
       "    <tr>\n",
       "      <td>1</td>\n",
       "      <td>4.0</td>\n",
       "      <td>0.0010</td>\n",
       "      <td>0.000061</td>\n",
       "    </tr>\n",
       "    <tr>\n",
       "      <td>2</td>\n",
       "      <td>5.0</td>\n",
       "      <td>0.2500</td>\n",
       "      <td>0.960301</td>\n",
       "    </tr>\n",
       "    <tr>\n",
       "      <td>3</td>\n",
       "      <td>8.0</td>\n",
       "      <td>0.2500</td>\n",
       "      <td>0.718919</td>\n",
       "    </tr>\n",
       "    <tr>\n",
       "      <td>4</td>\n",
       "      <td>13.0</td>\n",
       "      <td>0.0041</td>\n",
       "      <td>0.000108</td>\n",
       "    </tr>\n",
       "  </tbody>\n",
       "</table>\n",
       "</div>"
      ],
      "text/plain": [
       "     ID  Anderson_P      KS_P\n",
       "0   3.0      0.2500  0.718919\n",
       "1   4.0      0.0010  0.000061\n",
       "2   5.0      0.2500  0.960301\n",
       "3   8.0      0.2500  0.718919\n",
       "4  13.0      0.0041  0.000108"
      ]
     },
     "execution_count": 4,
     "metadata": {},
     "output_type": "execute_result"
    }
   ],
   "source": [
    "significance_scores = pd.read_csv(\"../csvs/resonant/res_signficance_scores_new_scipy.csv\")\n",
    "significance_scores.head()"
   ]
  },
  {
   "cell_type": "code",
   "execution_count": 5,
   "metadata": {},
   "outputs": [
    {
     "data": {
      "text/html": [
       "<div>\n",
       "<style scoped>\n",
       "    .dataframe tbody tr th:only-of-type {\n",
       "        vertical-align: middle;\n",
       "    }\n",
       "\n",
       "    .dataframe tbody tr th {\n",
       "        vertical-align: top;\n",
       "    }\n",
       "\n",
       "    .dataframe thead th {\n",
       "        text-align: right;\n",
       "    }\n",
       "</style>\n",
       "<table border=\"1\" class=\"dataframe\">\n",
       "  <thead>\n",
       "    <tr style=\"text-align: right;\">\n",
       "      <th></th>\n",
       "      <th>ID</th>\n",
       "      <th>Anderson_P</th>\n",
       "      <th>KS_P</th>\n",
       "    </tr>\n",
       "  </thead>\n",
       "  <tbody>\n",
       "    <tr>\n",
       "      <td>59</td>\n",
       "      <td>121.0</td>\n",
       "      <td>0.25</td>\n",
       "      <td>0.960301</td>\n",
       "    </tr>\n",
       "    <tr>\n",
       "      <td>2</td>\n",
       "      <td>5.0</td>\n",
       "      <td>0.25</td>\n",
       "      <td>0.960301</td>\n",
       "    </tr>\n",
       "    <tr>\n",
       "      <td>15</td>\n",
       "      <td>31.0</td>\n",
       "      <td>0.25</td>\n",
       "      <td>0.960301</td>\n",
       "    </tr>\n",
       "    <tr>\n",
       "      <td>45</td>\n",
       "      <td>84.0</td>\n",
       "      <td>0.25</td>\n",
       "      <td>0.960301</td>\n",
       "    </tr>\n",
       "    <tr>\n",
       "      <td>72</td>\n",
       "      <td>159.0</td>\n",
       "      <td>0.25</td>\n",
       "      <td>0.935112</td>\n",
       "    </tr>\n",
       "  </tbody>\n",
       "</table>\n",
       "</div>"
      ],
      "text/plain": [
       "       ID  Anderson_P      KS_P\n",
       "59  121.0        0.25  0.960301\n",
       "2     5.0        0.25  0.960301\n",
       "15   31.0        0.25  0.960301\n",
       "45   84.0        0.25  0.960301\n",
       "72  159.0        0.25  0.935112"
      ]
     },
     "execution_count": 5,
     "metadata": {},
     "output_type": "execute_result"
    }
   ],
   "source": [
    "ranked_scores = significance_scores.sort_values(\"KS_P\", ascending=False)\n",
    "ranked_scores.head()"
   ]
  },
  {
   "cell_type": "code",
   "execution_count": 6,
   "metadata": {},
   "outputs": [],
   "source": [
    "def plot_random_hists( planet_systems,title=None):\n",
    "    ncol, nrow = 3,len(planet_systems)//3\n",
    "    if (len(planet_systems)%3 != 0):\n",
    "        nrow +=1\n",
    "    fig, axarr = plt.subplots(ncols=ncol,nrows=nrow)\n",
    "    fig.set_size_inches((15, nrow*3))\n",
    "    for jj , planet_sys in enumerate(planet_systems[:ncol*nrow]):\n",
    "        data = pd.read_csv(\"../csvs/resonant/resonant_features/\" + planet_sys, index_col=0)\n",
    "    \n",
    "        data = data[data[\"t\"]<1e8]\n",
    "        data[\"logt\"] = np.log10(data[\"t\"])\n",
    "        name = planet_sys.split(\"_\")[2]\n",
    "        # make guassian\n",
    "        mean, sigma =  info[info[\"ID\"]==int(name)][[\"Mean\", \"Sigma\"]].values[0]\n",
    "\n",
    "        x = np.linspace(mean - sigma*4, mean+sigma*4, 100)\n",
    "        rv = norm(loc = mean, scale = sigma)\n",
    "        axarr[jj//ncol, jj%ncol ].plot(x, rv.pdf(x), linewidth = 4, color = \"black\")\n",
    "        data.hist(\"logt\",  ax = axarr[jj//ncol, jj%ncol],  label = name + \" Mean - \" +str(\"{0:.3f}\".format(mean)) + \" Sigma - \"+ str(\"{0:.3f}\".format(sigma)), alpha = 0.7, normed = 1, color = \"purple\", edgecolor = \"black\", bins = 20)\n",
    "        axarr[jj//ncol, jj%ncol ].set_title(name + r': $\\mu$=' +str(\"{0:.3f}\".format(mean)) + r': $\\sigma$='+ str(\"{0:.3f}\".format(sigma)))\n",
    "    plt.show()"
   ]
  },
  {
   "cell_type": "code",
   "execution_count": 7,
   "metadata": {},
   "outputs": [
    {
     "name": "stdout",
     "output_type": "stream",
     "text": [
      "['Res_sys_5_500.csv', 'Res_sys_31_500.csv', 'Res_sys_84_500.csv', 'Res_sys_159_500.csv', 'Res_sys_27_500.csv', 'Res_sys_93_500.csv']\n"
     ]
    },
    {
     "name": "stderr",
     "output_type": "stream",
     "text": [
      "/home/naireen/Documents/pythonVirtualEnvs/ROB501/lib/python3.7/site-packages/pandas/plotting/_matplotlib/hist.py:412: MatplotlibDeprecationWarning: \n",
      "The 'normed' kwarg was deprecated in Matplotlib 2.1 and will be removed in 3.1. Use 'density' instead.\n",
      "  ax.hist(data[col].dropna().values, bins=bins, **kwds)\n"
     ]
    },
    {
     "data": {
      "image/png": "[encoded data removed]",
      "text/plain": [
       "<Figure size 1080x432 with 6 Axes>"
      ]
     },
     "metadata": {
      "needs_background": "light"
     },
     "output_type": "display_data"
    }
   ],
   "source": [
    "very_gaussian = ranked_scores.head(7)[\"ID\"]\n",
    "very_gaussian = [\"Res_sys_{0}_500.csv\".format(int(x))  for x in very_gaussian][1:]\n",
    "print (very_gaussian)\n",
    "plot_random_hists(very_gaussian)"
   ]
  },
  {
   "cell_type": "code",
   "execution_count": null,
   "metadata": {
    "collapsed": true
   },
   "outputs": [],
   "source": []
  }
 ],
 "metadata": {
  "anaconda-cloud": {},
  "kernelspec": {
   "display_name": "Python 3",
   "language": "python",
   "name": "python3"
  },
  "language_info": {
   "codemirror_mode": {
    "name": "ipython",
    "version": 3
   },
   "file_extension": ".py",
   "mimetype": "text/x-python",
   "name": "python",
   "nbconvert_exporter": "python",
   "pygments_lexer": "ipython3",
   "version": "3.7.3"
  }
 },
 "nbformat": 4,
 "nbformat_minor": 1
}
