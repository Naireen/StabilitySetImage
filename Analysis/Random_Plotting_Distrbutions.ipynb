{
 "cells": [
  {
   "cell_type": "code",
   "execution_count": 1,
   "metadata": {},
   "outputs": [],
   "source": [
    "import numpy as np\n",
    "import matplotlib.pyplot as plt\n",
    "import pandas as pd\n",
    "from scipy.stats import norm"
   ]
  },
  {
   "cell_type": "code",
   "execution_count": 2,
   "metadata": {},
   "outputs": [
    {
     "data": {
      "text/html": [
       "<div>\n",
       "<style scoped>\n",
       "    .dataframe tbody tr th:only-of-type {\n",
       "        vertical-align: middle;\n",
       "    }\n",
       "\n",
       "    .dataframe tbody tr th {\n",
       "        vertical-align: top;\n",
       "    }\n",
       "\n",
       "    .dataframe thead th {\n",
       "        text-align: right;\n",
       "    }\n",
       "</style>\n",
       "<table border=\"1\" class=\"dataframe\">\n",
       "  <thead>\n",
       "    <tr style=\"text-align: right;\">\n",
       "      <th></th>\n",
       "      <th>ID</th>\n",
       "      <th>Probability</th>\n",
       "      <th>Mean</th>\n",
       "      <th>Sigma</th>\n",
       "      <th>Mean_Error</th>\n",
       "      <th>Sigma_Error</th>\n",
       "      <th>Determinant</th>\n",
       "    </tr>\n",
       "  </thead>\n",
       "  <tbody>\n",
       "    <tr>\n",
       "      <td>0</td>\n",
       "      <td>1007</td>\n",
       "      <td>0.133196</td>\n",
       "      <td>5.587629</td>\n",
       "      <td>0.464593</td>\n",
       "      <td>0.014738</td>\n",
       "      <td>0.010563</td>\n",
       "      <td>2.423315e-08</td>\n",
       "    </tr>\n",
       "    <tr>\n",
       "      <td>1</td>\n",
       "      <td>1021</td>\n",
       "      <td>0.181262</td>\n",
       "      <td>6.003999</td>\n",
       "      <td>0.327314</td>\n",
       "      <td>0.010287</td>\n",
       "      <td>0.007410</td>\n",
       "      <td>5.811603e-09</td>\n",
       "    </tr>\n",
       "    <tr>\n",
       "      <td>2</td>\n",
       "      <td>1025</td>\n",
       "      <td>0.153687</td>\n",
       "      <td>5.794418</td>\n",
       "      <td>0.385985</td>\n",
       "      <td>0.012358</td>\n",
       "      <td>0.008756</td>\n",
       "      <td>1.170601e-08</td>\n",
       "    </tr>\n",
       "    <tr>\n",
       "      <td>3</td>\n",
       "      <td>1041</td>\n",
       "      <td>0.127597</td>\n",
       "      <td>5.730234</td>\n",
       "      <td>0.494415</td>\n",
       "      <td>0.015324</td>\n",
       "      <td>0.011150</td>\n",
       "      <td>2.919534e-08</td>\n",
       "    </tr>\n",
       "    <tr>\n",
       "      <td>4</td>\n",
       "      <td>10518</td>\n",
       "      <td>0.144064</td>\n",
       "      <td>6.465849</td>\n",
       "      <td>0.431597</td>\n",
       "      <td>0.013325</td>\n",
       "      <td>0.009608</td>\n",
       "      <td>1.638141e-08</td>\n",
       "    </tr>\n",
       "  </tbody>\n",
       "</table>\n",
       "</div>"
      ],
      "text/plain": [
       "      ID  Probability      Mean     Sigma  Mean_Error  Sigma_Error  \\\n",
       "0   1007     0.133196  5.587629  0.464593    0.014738     0.010563   \n",
       "1   1021     0.181262  6.003999  0.327314    0.010287     0.007410   \n",
       "2   1025     0.153687  5.794418  0.385985    0.012358     0.008756   \n",
       "3   1041     0.127597  5.730234  0.494415    0.015324     0.011150   \n",
       "4  10518     0.144064  6.465849  0.431597    0.013325     0.009608   \n",
       "\n",
       "    Determinant  \n",
       "0  2.423315e-08  \n",
       "1  5.811603e-09  \n",
       "2  1.170601e-08  \n",
       "3  2.919534e-08  \n",
       "4  1.638141e-08  "
      ]
     },
     "execution_count": 2,
     "metadata": {},
     "output_type": "execute_result"
    }
   ],
   "source": [
    "info = pd.read_csv(\"../csvs/random/Gaussian_Fits_266.csv\", index_col=0)\n",
    "info.head()"
   ]
  },
  {
   "cell_type": "code",
   "execution_count": 6,
   "metadata": {},
   "outputs": [
    {
     "data": {
      "text/html": [
       "<div>\n",
       "<style scoped>\n",
       "    .dataframe tbody tr th:only-of-type {\n",
       "        vertical-align: middle;\n",
       "    }\n",
       "\n",
       "    .dataframe tbody tr th {\n",
       "        vertical-align: top;\n",
       "    }\n",
       "\n",
       "    .dataframe thead th {\n",
       "        text-align: right;\n",
       "    }\n",
       "</style>\n",
       "<table border=\"1\" class=\"dataframe\">\n",
       "  <thead>\n",
       "    <tr style=\"text-align: right;\">\n",
       "      <th></th>\n",
       "      <th>ID</th>\n",
       "      <th>Anderson_P</th>\n",
       "      <th>KS_P</th>\n",
       "    </tr>\n",
       "  </thead>\n",
       "  <tbody>\n",
       "    <tr>\n",
       "      <td>0</td>\n",
       "      <td>1007.0</td>\n",
       "      <td>0.186179</td>\n",
       "      <td>0.287798</td>\n",
       "    </tr>\n",
       "    <tr>\n",
       "      <td>1</td>\n",
       "      <td>1021.0</td>\n",
       "      <td>0.097986</td>\n",
       "      <td>0.164114</td>\n",
       "    </tr>\n",
       "    <tr>\n",
       "      <td>2</td>\n",
       "      <td>1025.0</td>\n",
       "      <td>0.187580</td>\n",
       "      <td>0.572890</td>\n",
       "    </tr>\n",
       "    <tr>\n",
       "      <td>3</td>\n",
       "      <td>1041.0</td>\n",
       "      <td>0.001000</td>\n",
       "      <td>0.000001</td>\n",
       "    </tr>\n",
       "    <tr>\n",
       "      <td>4</td>\n",
       "      <td>10518.0</td>\n",
       "      <td>0.001000</td>\n",
       "      <td>0.000185</td>\n",
       "    </tr>\n",
       "  </tbody>\n",
       "</table>\n",
       "</div>"
      ],
      "text/plain": [
       "        ID  Anderson_P      KS_P\n",
       "0   1007.0    0.186179  0.287798\n",
       "1   1021.0    0.097986  0.164114\n",
       "2   1025.0    0.187580  0.572890\n",
       "3   1041.0    0.001000  0.000001\n",
       "4  10518.0    0.001000  0.000185"
      ]
     },
     "execution_count": 6,
     "metadata": {},
     "output_type": "execute_result"
    }
   ],
   "source": [
    "significance_scores = pd.read_csv(\"../csvs/random/signficance_scores_new_scipy.csv\")\n",
    "significance_scores.head()"
   ]
  },
  {
   "cell_type": "code",
   "execution_count": 7,
   "metadata": {},
   "outputs": [
    {
     "data": {
      "text/html": [
       "<div>\n",
       "<style scoped>\n",
       "    .dataframe tbody tr th:only-of-type {\n",
       "        vertical-align: middle;\n",
       "    }\n",
       "\n",
       "    .dataframe tbody tr th {\n",
       "        vertical-align: top;\n",
       "    }\n",
       "\n",
       "    .dataframe thead th {\n",
       "        text-align: right;\n",
       "    }\n",
       "</style>\n",
       "<table border=\"1\" class=\"dataframe\">\n",
       "  <thead>\n",
       "    <tr style=\"text-align: right;\">\n",
       "      <th></th>\n",
       "      <th>ID</th>\n",
       "      <th>Anderson_P</th>\n",
       "      <th>KS_P</th>\n",
       "    </tr>\n",
       "  </thead>\n",
       "  <tbody>\n",
       "    <tr>\n",
       "      <td>150</td>\n",
       "      <td>2081.0</td>\n",
       "      <td>0.25</td>\n",
       "      <td>0.951672</td>\n",
       "    </tr>\n",
       "    <tr>\n",
       "      <td>131</td>\n",
       "      <td>19591.0</td>\n",
       "      <td>0.25</td>\n",
       "      <td>0.888173</td>\n",
       "    </tr>\n",
       "    <tr>\n",
       "      <td>152</td>\n",
       "      <td>2087.0</td>\n",
       "      <td>0.25</td>\n",
       "      <td>0.828219</td>\n",
       "    </tr>\n",
       "    <tr>\n",
       "      <td>141</td>\n",
       "      <td>2030.0</td>\n",
       "      <td>0.25</td>\n",
       "      <td>0.793158</td>\n",
       "    </tr>\n",
       "    <tr>\n",
       "      <td>13</td>\n",
       "      <td>1169.0</td>\n",
       "      <td>0.25</td>\n",
       "      <td>0.759370</td>\n",
       "    </tr>\n",
       "  </tbody>\n",
       "</table>\n",
       "</div>"
      ],
      "text/plain": [
       "          ID  Anderson_P      KS_P\n",
       "150   2081.0        0.25  0.951672\n",
       "131  19591.0        0.25  0.888173\n",
       "152   2087.0        0.25  0.828219\n",
       "141   2030.0        0.25  0.793158\n",
       "13    1169.0        0.25  0.759370"
      ]
     },
     "execution_count": 7,
     "metadata": {},
     "output_type": "execute_result"
    }
   ],
   "source": [
    "ranked_scores = significance_scores.sort_values(\"KS_P\", ascending=False)\n",
    "ranked_scores.head()"
   ]
  },
  {
   "cell_type": "code",
   "execution_count": 8,
   "metadata": {},
   "outputs": [],
   "source": [
    "def plot_random_hists( planet_systems,title=None):\n",
    "    ncol, nrow = 3,len(planet_systems)//3\n",
    "    if (len(planet_systems)%3 != 0):\n",
    "        nrow +=1\n",
    "    fig, axarr = plt.subplots(ncols=ncol,nrows=nrow)\n",
    "    fig.set_size_inches((15, nrow*3))\n",
    "    for jj , planet_sys in enumerate(planet_systems[:ncol*nrow]):\n",
    "        data = pd.read_csv(\"../csvs/random/random_features/\" + planet_sys, index_col=0)\n",
    "    \n",
    "        data = data[data[\"t\"]<1e8]\n",
    "        data[\"logt\"] = np.log10(data[\"t\"])\n",
    "        name = planet_sys.split(\"_\")[1]\n",
    "        # make guassian\n",
    "        mean, sigma =  info[info[\"ID\"]==int(name)][[\"Mean\", \"Sigma\"]].values[0]\n",
    "\n",
    "        x = np.linspace(mean - sigma*4, mean+sigma*4, 100)\n",
    "        rv = norm(loc = mean, scale = sigma)\n",
    "        axarr[jj//ncol, jj%ncol ].plot(x, rv.pdf(x), linewidth = 4, color = \"black\")\n",
    "        data.hist(\"logt\",  ax = axarr[jj//ncol, jj%ncol],  label = name + \" Mean - \" +str(\"{0:.3f}\".format(mean)) + \" Sigma - \"+ str(\"{0:.3f}\".format(sigma)), alpha = 0.7, normed = 1, color = \"purple\", edgecolor = \"black\", bins = 20)\n",
    "        axarr[jj//ncol, jj%ncol ].set_title(name + r': $\\mu$=' +str(\"{0:.3f}\".format(mean)) + r': $\\sigma$='+ str(\"{0:.3f}\".format(sigma)))\n",
    "    plt.show()"
   ]
  },
  {
   "cell_type": "code",
   "execution_count": 9,
   "metadata": {},
   "outputs": [
    {
     "name": "stdout",
     "output_type": "stream",
     "text": [
      "['Sys_2081_1e8.csv', 'Sys_19591_1e8.csv', 'Sys_2087_1e8.csv', 'Sys_2030_1e8.csv', 'Sys_1169_1e8.csv', 'Sys_25_1e8.csv']\n"
     ]
    },
    {
     "name": "stderr",
     "output_type": "stream",
     "text": [
      "/home/naireen/Documents/pythonVirtualEnvs/ROB501/lib/python3.7/site-packages/pandas/plotting/_matplotlib/hist.py:412: MatplotlibDeprecationWarning: \n",
      "The 'normed' kwarg was deprecated in Matplotlib 2.1 and will be removed in 3.1. Use 'density' instead.\n",
      "  ax.hist(data[col].dropna().values, bins=bins, **kwds)\n"
     ]
    },
    {
     "data": {
      "image/png": "[encoded data removed]",
      "text/plain": [
       "<Figure size 1080x432 with 6 Axes>"
      ]
     },
     "metadata": {
      "needs_background": "light"
     },
     "output_type": "display_data"
    }
   ],
   "source": [
    "very_gaussian = ranked_scores.head(6)[\"ID\"]\n",
    "very_gaussian = [\"Sys_{0}_1e8.csv\".format(int(x))  for x in very_gaussian]\n",
    "print (very_gaussian)\n",
    "plot_random_hists(very_gaussian)"
   ]
  },
  {
   "cell_type": "code",
   "execution_count": null,
   "metadata": {
    "collapsed": true
   },
   "outputs": [],
   "source": []
  }
 ],
 "metadata": {
  "anaconda-cloud": {},
  "kernelspec": {
   "display_name": "Python 3",
   "language": "python",
   "name": "python3"
  },
  "language_info": {
   "codemirror_mode": {
    "name": "ipython",
    "version": 3
   },
   "file_extension": ".py",
   "mimetype": "text/x-python",
   "name": "python",
   "nbconvert_exporter": "python",
   "pygments_lexer": "ipython3",
   "version": "3.7.3"
  }
 },
 "nbformat": 4,
 "nbformat_minor": 1
}
