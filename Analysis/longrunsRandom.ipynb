{
 "cells": [
  {
   "cell_type": "markdown",
   "metadata": {},
   "source": [
    "# Use REBOUND commit 361adacb48ff55ea8331adbf37a943e63ca02984 on oldMLstability branch"
   ]
  },
  {
   "cell_type": "code",
   "execution_count": 1,
   "metadata": {},
   "outputs": [],
   "source": [
    "import numpy as np\n",
    "import matplotlib\n",
    "import matplotlib.pyplot as plt\n",
    "%matplotlib inline\n",
    "import pandas as pd\n",
    "import rebound\n",
    "import dask.dataframe as dd\n",
    "plt.style.use('paper')"
   ]
  },
  {
   "cell_type": "code",
   "execution_count": 2,
   "metadata": {},
   "outputs": [
    {
     "data": {
      "text/html": [
       "<div>\n",
       "<style scoped>\n",
       "    .dataframe tbody tr th:only-of-type {\n",
       "        vertical-align: middle;\n",
       "    }\n",
       "\n",
       "    .dataframe tbody tr th {\n",
       "        vertical-align: top;\n",
       "    }\n",
       "\n",
       "    .dataframe thead th {\n",
       "        text-align: right;\n",
       "    }\n",
       "</style>\n",
       "<table border=\"1\" class=\"dataframe\">\n",
       "  <thead>\n",
       "    <tr style=\"text-align: right;\">\n",
       "      <th></th>\n",
       "      <th>ID</th>\n",
       "      <th>Mean</th>\n",
       "      <th>Sigma</th>\n",
       "      <th>KSpval</th>\n",
       "    </tr>\n",
       "  </thead>\n",
       "  <tbody>\n",
       "    <tr>\n",
       "      <th>0</th>\n",
       "      <td>1007</td>\n",
       "      <td>5.587629</td>\n",
       "      <td>0.464593</td>\n",
       "      <td>6.663128e-02</td>\n",
       "    </tr>\n",
       "    <tr>\n",
       "      <th>1</th>\n",
       "      <td>1021</td>\n",
       "      <td>6.003999</td>\n",
       "      <td>0.327314</td>\n",
       "      <td>5.287958e-01</td>\n",
       "    </tr>\n",
       "    <tr>\n",
       "      <th>2</th>\n",
       "      <td>1025</td>\n",
       "      <td>5.794418</td>\n",
       "      <td>0.385985</td>\n",
       "      <td>4.101035e-02</td>\n",
       "    </tr>\n",
       "    <tr>\n",
       "      <th>3</th>\n",
       "      <td>1041</td>\n",
       "      <td>5.730234</td>\n",
       "      <td>0.494415</td>\n",
       "      <td>8.813668e-07</td>\n",
       "    </tr>\n",
       "    <tr>\n",
       "      <th>4</th>\n",
       "      <td>10518</td>\n",
       "      <td>6.465849</td>\n",
       "      <td>0.431597</td>\n",
       "      <td>6.504852e-03</td>\n",
       "    </tr>\n",
       "  </tbody>\n",
       "</table>\n",
       "</div>"
      ],
      "text/plain": [
       "      ID      Mean     Sigma        KSpval\n",
       "0   1007  5.587629  0.464593  6.663128e-02\n",
       "1   1021  6.003999  0.327314  5.287958e-01\n",
       "2   1025  5.794418  0.385985  4.101035e-02\n",
       "3   1041  5.730234  0.494415  8.813668e-07\n",
       "4  10518  6.465849  0.431597  6.504852e-03"
      ]
     },
     "execution_count": 2,
     "metadata": {},
     "output_type": "execute_result"
    }
   ],
   "source": [
    "csvpath = '../csvs/random/random_features/'\n",
    "distpath = '../../stabilitydataset/data/random/initial_conditions/runs/'\n",
    "df = pd.read_csv(csvpath + 'distributionfeaturesnew.csv', index_col=0)\n",
    "df = df[['ID', 'Mean', 'Sigma', 'KSpval']]\n",
    "df.head()"
   ]
  },
  {
   "cell_type": "code",
   "execution_count": 3,
   "metadata": {},
   "outputs": [
    {
     "data": {
      "text/plain": [
       "(248, 4)"
      ]
     },
     "execution_count": 3,
     "metadata": {},
     "output_type": "execute_result"
    }
   ],
   "source": [
    "df.shape"
   ]
  },
  {
   "cell_type": "code",
   "execution_count": 4,
   "metadata": {},
   "outputs": [
    {
     "data": {
      "text/plain": [
       "(244, 4)"
      ]
     },
     "execution_count": 4,
     "metadata": {},
     "output_type": "execute_result"
    }
   ],
   "source": [
    "df = df[(df['Mean'] > 4) & (df['Mean'] < 7)]\n",
    "df.shape"
   ]
  },
  {
   "cell_type": "code",
   "execution_count": 5,
   "metadata": {},
   "outputs": [
    {
     "data": {
      "text/html": [
       "<div>\n",
       "<style scoped>\n",
       "    .dataframe tbody tr th:only-of-type {\n",
       "        vertical-align: middle;\n",
       "    }\n",
       "\n",
       "    .dataframe tbody tr th {\n",
       "        vertical-align: top;\n",
       "    }\n",
       "\n",
       "    .dataframe thead th {\n",
       "        text-align: right;\n",
       "    }\n",
       "</style>\n",
       "<table border=\"1\" class=\"dataframe\">\n",
       "  <thead>\n",
       "    <tr style=\"text-align: right;\">\n",
       "      <th></th>\n",
       "      <th>runstring</th>\n",
       "      <th>instability_time</th>\n",
       "      <th>shadow_instability_time</th>\n",
       "      <th>Stable</th>\n",
       "    </tr>\n",
       "  </thead>\n",
       "  <tbody>\n",
       "    <tr>\n",
       "      <th>0</th>\n",
       "      <td>0000000.bin</td>\n",
       "      <td>1.235665e+07</td>\n",
       "      <td>8.315223e+07</td>\n",
       "      <td>False</td>\n",
       "    </tr>\n",
       "    <tr>\n",
       "      <th>1</th>\n",
       "      <td>0000001.bin</td>\n",
       "      <td>1.348749e+05</td>\n",
       "      <td>2.133072e+05</td>\n",
       "      <td>False</td>\n",
       "    </tr>\n",
       "    <tr>\n",
       "      <th>2</th>\n",
       "      <td>0000002.bin</td>\n",
       "      <td>1.276428e+04</td>\n",
       "      <td>9.321863e+03</td>\n",
       "      <td>False</td>\n",
       "    </tr>\n",
       "    <tr>\n",
       "      <th>3</th>\n",
       "      <td>0000003.bin</td>\n",
       "      <td>1.000000e+09</td>\n",
       "      <td>1.000000e+09</td>\n",
       "      <td>True</td>\n",
       "    </tr>\n",
       "    <tr>\n",
       "      <th>4</th>\n",
       "      <td>0000004.bin</td>\n",
       "      <td>8.791890e+01</td>\n",
       "      <td>8.791890e+01</td>\n",
       "      <td>False</td>\n",
       "    </tr>\n",
       "  </tbody>\n",
       "</table>\n",
       "</div>"
      ],
      "text/plain": [
       "     runstring  instability_time  shadow_instability_time  Stable\n",
       "0  0000000.bin      1.235665e+07             8.315223e+07   False\n",
       "1  0000001.bin      1.348749e+05             2.133072e+05   False\n",
       "2  0000002.bin      1.276428e+04             9.321863e+03   False\n",
       "3  0000003.bin      1.000000e+09             1.000000e+09    True\n",
       "4  0000004.bin      8.791890e+01             8.791890e+01   False"
      ]
     },
     "execution_count": 5,
     "metadata": {},
     "output_type": "execute_result"
    }
   ],
   "source": [
    "labels = pd.read_csv('../../MLstability/training_data/random/labels.csv', index_col=0)\n",
    "labels.head()"
   ]
  },
  {
   "cell_type": "code",
   "execution_count": 6,
   "metadata": {},
   "outputs": [
    {
     "data": {
      "text/plain": [
       "<matplotlib.axes._subplots.AxesSubplot at 0x7f93636ca160>"
      ]
     },
     "execution_count": 6,
     "metadata": {},
     "output_type": "execute_result"
    },
    {
     "data": {
      "image/png": "[encoded data removed]",
      "text/plain": [
       "<Figure size 432x288 with 1 Axes>"
      ]
     },
     "metadata": {
      "needs_background": "light"
     },
     "output_type": "display_data"
    }
   ],
   "source": [
    "df['Mean'].hist()"
   ]
  },
  {
   "cell_type": "code",
   "execution_count": 7,
   "metadata": {},
   "outputs": [
    {
     "data": {
      "text/plain": [
       "<matplotlib.axes._subplots.AxesSubplot at 0x7f936339b400>"
      ]
     },
     "execution_count": 7,
     "metadata": {},
     "output_type": "execute_result"
    },
    {
     "data": {
      "image/png": "[encoded data removed]",
      "text/plain": [
       "<Figure size 432x288 with 1 Axes>"
      ]
     },
     "metadata": {
      "needs_background": "light"
     },
     "output_type": "display_data"
    }
   ],
   "source": [
    "np.log10(labels.loc[df['ID']]['instability_time']).hist()"
   ]
  },
  {
   "cell_type": "code",
   "execution_count": 8,
   "metadata": {},
   "outputs": [
    {
     "data": {
      "text/plain": [
       "<matplotlib.axes._subplots.AxesSubplot at 0x7f936339b5f8>"
      ]
     },
     "execution_count": 8,
     "metadata": {},
     "output_type": "execute_result"
    },
    {
     "data": {
      "image/png": "[encoded data removed]",
      "text/plain": [
       "<Figure size 432x288 with 1 Axes>"
      ]
     },
     "metadata": {
      "needs_background": "light"
     },
     "output_type": "display_data"
    }
   ],
   "source": [
    "np.log10(labels.loc[df[df['KSpval'] < 1.e-6]['ID']]['instability_time']).hist()"
   ]
  },
  {
   "cell_type": "code",
   "execution_count": 104,
   "metadata": {},
   "outputs": [],
   "source": [
    "def collision(reb_sim, col):\n",
    "    reb_sim.contents._status = 5\n",
    "    return 0\n",
    "\n",
    "def run(row):\n",
    "    tmax = 1e7\n",
    "    ID = int(row['ID'])\n",
    "    \n",
    "    file = distpath+\"ic{0:0=7d}.bin\".format(ID)\n",
    "    sim = rebound.Simulation.from_file(file)\n",
    "    sim.ri_whfast.keep_unsynchronized = 1\n",
    "    sim.collision_resolve=collision\n",
    "    sim.init_megno(seed=0)\n",
    "    \n",
    "    Nout = 1000\n",
    "    times = np.logspace(0, np.log10(tmax), Nout)\n",
    "    P0 = sim.particles[1].P\n",
    "    megnos, tlyaps = np.zeros(Nout), np.zeros(Nout)\n",
    "    for i, time in enumerate(times):\n",
    "        sim.integrate(time, exact_finish_time=0)\n",
    "        if sim._status == 5:\n",
    "            break\n",
    "        megnos[i] = sim.calculate_megno()\n",
    "        tlyaps[i] = 1/sim.calculate_lyapunov()/P0\n",
    "        \n",
    "    nonzero = int((megnos > 0).sum())\n",
    "    megnos = megnos[:nonzero]\n",
    "    tlyaps = tlyaps[:nonzero]\n",
    "    row['tlyap'] = tlyaps[~np.isnan(tlyaps)][-1]\n",
    "    if row['tlyap'] < 0 or row['tlyap'] > sim.t:\n",
    "        row['tlyap'] = sim.t\n",
    "    row['megno'] = megnos[~np.isnan(megnos)][-1]\n",
    "    row['megnonan'] = np.isnan(megnos[-1])\n",
    "    row['instability_time'] = labels.loc[ID, 'instability_time']\n",
    "    row['Nlyap'] = row['instability_time']  / row['tlyap']\n",
    "    return row\n",
    "\n",
    "def runsplit(row):\n",
    "    tmax = 1e7\n",
    "    ID = int(row['ID'])\n",
    "    row['instability_time'] = labels.loc[ID, 'instability_time']\n",
    "\n",
    "    file = distpath+\"ic{0:0=7d}.bin\".format(ID)\n",
    "    sim = rebound.Simulation.from_file(file)\n",
    "    sim.ri_whfast.keep_unsynchronized = 1\n",
    "    sim.collision_resolve=collision\n",
    "    sim.init_megno(seed=0)\n",
    "\n",
    "    Nout = 1000\n",
    "    times = np.logspace(0, np.log10(tmax), Nout)\n",
    "    P0 = sim.particles[1].P\n",
    "\n",
    "    sim.integrate(row['instability_time']/10, exact_finish_time=0)\n",
    "    row['tlyap10'] = 1/sim.calculate_lyapunov()/P0\n",
    "    if row['tlyap10'] < 0 or row['tlyap10'] > sim.t:\n",
    "        row['tlyap10'] = sim.t\n",
    "    row['megno10'] = sim.calculate_megno()\n",
    "    row['Nlyap10'] = row['instability_time']  / row['tlyap10']\n",
    "    \n",
    "    sim.integrate(row['instability_time']/5, exact_finish_time=0)\n",
    "    row['tlyap5'] = 1/sim.calculate_lyapunov()/P0\n",
    "    if row['tlyap5'] < 0 or row['tlyap5'] > sim.t:\n",
    "        row['tlyap5'] = sim.t\n",
    "    row['megno5'] = sim.calculate_megno()\n",
    "    row['Nlyap5'] = row['instability_time']  / row['tlyap5']\n",
    "\n",
    "    sim.integrate(row['instability_time']/3, exact_finish_time=0)\n",
    "    row['tlyap3'] = 1/sim.calculate_lyapunov()/P0\n",
    "    if row['tlyap3'] < 0 or row['tlyap3'] > sim.t:\n",
    "        row['tlyap3'] = sim.t\n",
    "    row['megno3'] = sim.calculate_megno()\n",
    "    row['Nlyap3'] = row['instability_time']  / row['tlyap3']\n",
    "    return row"
   ]
  },
  {
   "cell_type": "markdown",
   "metadata": {},
   "source": [
    "# We don't get exactly the same instability time when rerunning stopping along the way because the original integrations are using unsynced positions to detect collisions and megno syncs them. But that's fine. We always get very close, because it's once the orbits are crossing that we start finding collisions (synced or unsynced). This is a demonstration that the exact details of detecting collisions doesn't matter. We've also already checked reproducibility when we do a single sim.integrate (see test_notebooks) and here we just want the lyap times"
   ]
  },
  {
   "cell_type": "code",
   "execution_count": 98,
   "metadata": {},
   "outputs": [
    {
     "data": {
      "text/plain": [
       "58014.27969501363"
      ]
     },
     "execution_count": 98,
     "metadata": {},
     "output_type": "execute_result"
    }
   ],
   "source": [
    "row = df.loc[0]\n",
    "tmax = 1e7\n",
    "ID = int(row['ID'])\n",
    "row['instability_time'] = labels.loc[ID, 'instability_time']\n",
    "\n",
    "file = distpath+\"ic{0:0=7d}.bin\".format(ID)\n",
    "sim = rebound.Simulation.from_file(file)\n",
    "sim.ri_whfast.keep_unsynchronized = 1\n",
    "sim.collision_resolve=collision\n",
    "sim.init_megno(seed=0)\n",
    "\n",
    "Nout = 1000\n",
    "times = np.logspace(0, np.log10(tmax), Nout)\n",
    "P0 = sim.particles[1].P\n",
    "\n",
    "sim.integrate(row['instability_time']/10, exact_finish_time=0)\n",
    "row['tlyap10'] = 1/sim.calculate_lyapunov()/P0\n",
    "if row['tlyap10'] < 0 or row['tlyap10'] > sim.t:\n",
    "    row['tlyap10'] = sim.t\n",
    "row['megno10'] = sim.calculate_megno()\n",
    "row['Nlyap10'] = row['instability_time']  / row['tlyap10']\n",
    "\n",
    "sim.integrate(row['instability_time']/3, exact_finish_time=0)\n",
    "row['tlyap3'] = 1/sim.calculate_lyapunov()/P0\n",
    "if row['tlyap3'] < 0 or row['tlyap3'] > sim.t:\n",
    "    row['tlyap3'] = sim.t\n",
    "row['megno3'] = sim.calculate_megno()\n",
    "row['Nlyap3'] = row['instability_time']  / row['tlyap3']\n",
    "\n",
    "sim.t/P0"
   ]
  },
  {
   "cell_type": "code",
   "execution_count": 99,
   "metadata": {},
   "outputs": [
    {
     "data": {
      "text/plain": [
       "174039.58282690134"
      ]
     },
     "execution_count": 99,
     "metadata": {},
     "output_type": "execute_result"
    }
   ],
   "source": [
    "labels.loc[ID, 'instability_time']"
   ]
  },
  {
   "cell_type": "markdown",
   "metadata": {},
   "source": [
    "# Generate"
   ]
  },
  {
   "cell_type": "code",
   "execution_count": null,
   "metadata": {},
   "outputs": [
    {
     "name": "stderr",
     "output_type": "stream",
     "text": [
      "/mnt/ssd/Dropbox/Dropbox (Princeton)/workspace/rebound/rebound/simulation.py:374: RuntimeWarning: You have to reset function pointers after creating a reb_simulation struct with a binary file.\n",
      "  warnings.warn(message, RuntimeWarning)\n",
      "/mnt/ssd/Dropbox/Dropbox (Princeton)/workspace/rebound/rebound/simulation.py:374: RuntimeWarning: You have to reset function pointers after creating a reb_simulation struct with a binary file.\n",
      "  warnings.warn(message, RuntimeWarning)\n",
      "/mnt/ssd/Dropbox/Dropbox (Princeton)/workspace/rebound/rebound/simulation.py:374: RuntimeWarning: You have to reset function pointers after creating a reb_simulation struct with a binary file.\n",
      "  warnings.warn(message, RuntimeWarning)\n",
      "/mnt/ssd/Dropbox/Dropbox (Princeton)/workspace/rebound/rebound/simulation.py:374: RuntimeWarning: You have to reset function pointers after creating a reb_simulation struct with a binary file.\n",
      "  warnings.warn(message, RuntimeWarning)\n",
      "/mnt/ssd/Dropbox/Dropbox (Princeton)/workspace/rebound/rebound/simulation.py:374: RuntimeWarning: You have to reset function pointers after creating a reb_simulation struct with a binary file.\n",
      "  warnings.warn(message, RuntimeWarning)\n",
      "/mnt/ssd/Dropbox/Dropbox (Princeton)/workspace/rebound/rebound/simulation.py:374: RuntimeWarning: You have to reset function pointers after creating a reb_simulation struct with a binary file.\n",
      "  warnings.warn(message, RuntimeWarning)\n",
      "/mnt/ssd/Dropbox/Dropbox (Princeton)/workspace/rebound/rebound/simulation.py:374: RuntimeWarning: You have to reset function pointers after creating a reb_simulation struct with a binary file.\n",
      "  warnings.warn(message, RuntimeWarning)\n",
      "/mnt/ssd/Dropbox/Dropbox (Princeton)/workspace/rebound/rebound/simulation.py:374: RuntimeWarning: You have to reset function pointers after creating a reb_simulation struct with a binary file.\n",
      "  warnings.warn(message, RuntimeWarning)\n",
      "/mnt/ssd/Dropbox/Dropbox (Princeton)/workspace/rebound/rebound/simulation.py:374: RuntimeWarning: You have to reset function pointers after creating a reb_simulation struct with a binary file.\n",
      "  warnings.warn(message, RuntimeWarning)\n",
      "/mnt/ssd/Dropbox/Dropbox (Princeton)/workspace/rebound/rebound/simulation.py:374: RuntimeWarning: You have to reset function pointers after creating a reb_simulation struct with a binary file.\n",
      "  warnings.warn(message, RuntimeWarning)\n",
      "/mnt/ssd/Dropbox/Dropbox (Princeton)/workspace/rebound/rebound/simulation.py:374: RuntimeWarning: You have to reset function pointers after creating a reb_simulation struct with a binary file.\n",
      "  warnings.warn(message, RuntimeWarning)\n",
      "/mnt/ssd/Dropbox/Dropbox (Princeton)/workspace/rebound/rebound/simulation.py:374: RuntimeWarning: You have to reset function pointers after creating a reb_simulation struct with a binary file.\n",
      "  warnings.warn(message, RuntimeWarning)\n",
      "/mnt/ssd/Dropbox/Dropbox (Princeton)/workspace/rebound/rebound/simulation.py:374: RuntimeWarning: You have to reset function pointers after creating a reb_simulation struct with a binary file.\n",
      "  warnings.warn(message, RuntimeWarning)\n",
      "/mnt/ssd/Dropbox/Dropbox (Princeton)/workspace/rebound/rebound/simulation.py:374: RuntimeWarning: You have to reset function pointers after creating a reb_simulation struct with a binary file.\n",
      "  warnings.warn(message, RuntimeWarning)\n",
      "/mnt/ssd/Dropbox/Dropbox (Princeton)/workspace/rebound/rebound/simulation.py:374: RuntimeWarning: You have to reset function pointers after creating a reb_simulation struct with a binary file.\n",
      "  warnings.warn(message, RuntimeWarning)\n",
      "/mnt/ssd/Dropbox/Dropbox (Princeton)/workspace/rebound/rebound/simulation.py:374: RuntimeWarning: You have to reset function pointers after creating a reb_simulation struct with a binary file.\n",
      "  warnings.warn(message, RuntimeWarning)\n",
      "/mnt/ssd/Dropbox/Dropbox (Princeton)/workspace/rebound/rebound/simulation.py:374: RuntimeWarning: You have to reset function pointers after creating a reb_simulation struct with a binary file.\n",
      "  warnings.warn(message, RuntimeWarning)\n",
      "/mnt/ssd/Dropbox/Dropbox (Princeton)/workspace/rebound/rebound/simulation.py:374: RuntimeWarning: You have to reset function pointers after creating a reb_simulation struct with a binary file.\n",
      "  warnings.warn(message, RuntimeWarning)\n",
      "/mnt/ssd/Dropbox/Dropbox (Princeton)/workspace/rebound/rebound/simulation.py:374: RuntimeWarning: You have to reset function pointers after creating a reb_simulation struct with a binary file.\n",
      "  warnings.warn(message, RuntimeWarning)\n",
      "/mnt/ssd/Dropbox/Dropbox (Princeton)/workspace/rebound/rebound/simulation.py:374: RuntimeWarning: You have to reset function pointers after creating a reb_simulation struct with a binary file.\n",
      "  warnings.warn(message, RuntimeWarning)\n",
      "/mnt/ssd/Dropbox/Dropbox (Princeton)/workspace/rebound/rebound/simulation.py:374: RuntimeWarning: You have to reset function pointers after creating a reb_simulation struct with a binary file.\n",
      "  warnings.warn(message, RuntimeWarning)\n",
      "/mnt/ssd/Dropbox/Dropbox (Princeton)/workspace/rebound/rebound/simulation.py:374: RuntimeWarning: You have to reset function pointers after creating a reb_simulation struct with a binary file.\n",
      "  warnings.warn(message, RuntimeWarning)\n",
      "/mnt/ssd/Dropbox/Dropbox (Princeton)/workspace/rebound/rebound/simulation.py:374: RuntimeWarning: You have to reset function pointers after creating a reb_simulation struct with a binary file.\n",
      "  warnings.warn(message, RuntimeWarning)\n"
     ]
    }
   ],
   "source": [
    "%%time\n",
    "ddf = dd.from_pandas(df, npartitions=24)\n",
    "testres = runsplit(df.iloc[0])\n",
    "df = ddf.apply(runsplit, axis=1, meta=pd.DataFrame([testres])).compute(scheduler='processes')"
   ]
  },
  {
   "cell_type": "code",
   "execution_count": null,
   "metadata": {},
   "outputs": [],
   "source": [
    "df.to_csv(csvpath+'random1e7featuressplit.csv')"
   ]
  },
  {
   "cell_type": "code",
   "execution_count": 102,
   "metadata": {},
   "outputs": [
    {
     "name": "stderr",
     "output_type": "stream",
     "text": [
      "/home/dtamayo/miniconda3/envs/ml/lib/python3.7/site-packages/ipykernel_launcher.py:22: RuntimeWarning: invalid value encountered in greater\n"
     ]
    },
    {
     "data": {
      "text/plain": [
       "714412.3112341705"
      ]
     },
     "execution_count": 102,
     "metadata": {},
     "output_type": "execute_result"
    }
   ],
   "source": [
    "row = df.loc[3]\n",
    "tmax = 1e7\n",
    "ID = int(row['ID'])\n",
    "tmax = labels.loc[ID, 'instability_time']#/10.\n",
    "\n",
    "file = distpath+\"ic{0:0=7d}.bin\".format(ID)\n",
    "sim = rebound.Simulation.from_file(file)\n",
    "sim.ri_whfast.keep_unsynchronized = 1\n",
    "sim.collision_resolve=collision\n",
    "sim.init_megno(seed=0)\n",
    "\n",
    "Nout = 1000\n",
    "times = np.logspace(0, np.log10(tmax), Nout)\n",
    "P0 = sim.particles[1].P\n",
    "megnos, tlyaps = np.zeros(Nout), np.zeros(Nout)\n",
    "for i, time in enumerate(times):\n",
    "    sim.integrate(time, exact_finish_time=0)\n",
    "    if sim._status == 5:\n",
    "        break\n",
    "    megnos[i] = sim.calculate_megno()\n",
    "    tlyaps[i] = 1/sim.calculate_lyapunov()/P0\n",
    "\n",
    "nonzero = int((megnos > 0).sum())\n",
    "megnos = megnos[:nonzero]\n",
    "tlyaps = tlyaps[:nonzero]\n",
    "row['tlyap'] = tlyaps[~np.isnan(tlyaps)][-1]\n",
    "if row['tlyap'] < 0 or row['tlyap'] > sim.t:\n",
    "    row['tlyap'] = sim.t\n",
    "row['megno'] = megnos[~np.isnan(megnos)][-1]\n",
    "row['megnonan'] = np.isnan(megnos[-1])\n",
    "row['instability_time'] = labels.loc[ID, 'instability_time']\n",
    "row['Nlyap'] = row['instability_time']  / row['tlyap']\n",
    "sim.t/P0"
   ]
  },
  {
   "cell_type": "code",
   "execution_count": 108,
   "metadata": {},
   "outputs": [
    {
     "data": {
      "text/plain": [
       "Text(0, 0.5, 'megno')"
      ]
     },
     "execution_count": 108,
     "metadata": {},
     "output_type": "execute_result"
    },
    {
     "data": {
      "image/png": "[encoded data removed]",
      "text/plain": [
       "<Figure size 432x288 with 1 Axes>"
      ]
     },
     "metadata": {
      "needs_background": "light"
     },
     "output_type": "display_data"
    }
   ],
   "source": [
    "fig, ax = plt.subplots()\n",
    "ax.plot(times[:nonzero], megnos, '.')\n",
    "ax.set_xlabel('time')\n",
    "ax.set_ylabel('megno')"
   ]
  },
  {
   "cell_type": "code",
   "execution_count": 105,
   "metadata": {},
   "outputs": [
    {
     "data": {
      "text/plain": [
       "ID                  1.041000e+03\n",
       "Mean                5.730234e+00\n",
       "Sigma               4.944148e-01\n",
       "KSpval              8.813668e-07\n",
       "tlyap               1.248293e+03\n",
       "megno               1.243959e+02\n",
       "Nlyap               5.656824e+02\n",
       "instability_time    7.144123e+05\n",
       "megnonan            0.000000e+00\n",
       "tlyap10             9.095502e+03\n",
       "megno10             9.486404e+00\n",
       "Nlyap10             7.854567e+01\n",
       "tlyap5                       NaN\n",
       "megno5                       NaN\n",
       "Nlyap5                       NaN\n",
       "tlyap3                       NaN\n",
       "megno3                       NaN\n",
       "Nlyap3                       NaN\n",
       "Name: 3, dtype: float64"
      ]
     },
     "execution_count": 105,
     "metadata": {},
     "output_type": "execute_result"
    }
   ],
   "source": [
    "runsplit(df.loc[3])"
   ]
  },
  {
   "cell_type": "code",
   "execution_count": null,
   "metadata": {},
   "outputs": [],
   "source": []
  }
 ],
 "metadata": {
  "kernelspec": {
   "display_name": "Python 3",
   "language": "python",
   "name": "python3"
  },
  "language_info": {
   "codemirror_mode": {
    "name": "ipython",
    "version": 3
   },
   "file_extension": ".py",
   "mimetype": "text/x-python",
   "name": "python",
   "nbconvert_exporter": "python",
   "pygments_lexer": "ipython3",
   "version": "3.7.3"
  }
 },
 "nbformat": 4,
 "nbformat_minor": 2
}
